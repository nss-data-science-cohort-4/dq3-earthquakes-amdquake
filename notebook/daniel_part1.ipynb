{
 "cells": [
  {
   "cell_type": "code",
   "execution_count": 30,
   "metadata": {
    "scrolled": true
   },
   "outputs": [],
   "source": [
    "import pandas as pd\n",
    "import numpy as np\n",
    "import re\n",
    "import seaborn as sns\n",
    "import matplotlib.pyplot as plt"
   ]
  },
  {
   "cell_type": "code",
   "execution_count": 2,
   "metadata": {
    "collapsed": true
   },
   "outputs": [
    {
     "data": {
      "text/html": [
       "<div>\n",
       "<style scoped>\n",
       "    .dataframe tbody tr th:only-of-type {\n",
       "        vertical-align: middle;\n",
       "    }\n",
       "\n",
       "    .dataframe tbody tr th {\n",
       "        vertical-align: top;\n",
       "    }\n",
       "\n",
       "    .dataframe thead th {\n",
       "        text-align: right;\n",
       "    }\n",
       "</style>\n",
       "<table border=\"1\" class=\"dataframe\">\n",
       "  <thead>\n",
       "    <tr style=\"text-align: right;\">\n",
       "      <th></th>\n",
       "      <th>date</th>\n",
       "      <th>year</th>\n",
       "      <th>month</th>\n",
       "      <th>day</th>\n",
       "      <th>time</th>\n",
       "      <th>country</th>\n",
       "      <th>latitude</th>\n",
       "      <th>longitude</th>\n",
       "      <th>depth</th>\n",
       "      <th>magnitude</th>\n",
       "      <th>secondary_effects</th>\n",
       "      <th>deaths</th>\n",
       "    </tr>\n",
       "  </thead>\n",
       "  <tbody>\n",
       "    <tr>\n",
       "      <td>0</td>\n",
       "      <td>1900-05-11 17:23:00</td>\n",
       "      <td>1900</td>\n",
       "      <td>5</td>\n",
       "      <td>11</td>\n",
       "      <td>17:23:00</td>\n",
       "      <td>Japan</td>\n",
       "      <td>38.700</td>\n",
       "      <td>141.100</td>\n",
       "      <td>5.0</td>\n",
       "      <td>7.0</td>\n",
       "      <td>NaN</td>\n",
       "      <td>0</td>\n",
       "    </tr>\n",
       "    <tr>\n",
       "      <td>1</td>\n",
       "      <td>1900-07-12 06:25:00</td>\n",
       "      <td>1900</td>\n",
       "      <td>7</td>\n",
       "      <td>12</td>\n",
       "      <td>06:25:00</td>\n",
       "      <td>Turkey</td>\n",
       "      <td>40.300</td>\n",
       "      <td>43.100</td>\n",
       "      <td>NaN</td>\n",
       "      <td>5.9</td>\n",
       "      <td>NaN</td>\n",
       "      <td>140</td>\n",
       "    </tr>\n",
       "    <tr>\n",
       "      <td>2</td>\n",
       "      <td>1900-10-29 09:11:00</td>\n",
       "      <td>1900</td>\n",
       "      <td>10</td>\n",
       "      <td>29</td>\n",
       "      <td>09:11:00</td>\n",
       "      <td>Venezuela</td>\n",
       "      <td>11.000</td>\n",
       "      <td>-66.000</td>\n",
       "      <td>0.0</td>\n",
       "      <td>7.7</td>\n",
       "      <td>NaN</td>\n",
       "      <td>0</td>\n",
       "    </tr>\n",
       "    <tr>\n",
       "      <td>3</td>\n",
       "      <td>1901-02-15 00:00:00</td>\n",
       "      <td>1901</td>\n",
       "      <td>2</td>\n",
       "      <td>15</td>\n",
       "      <td>00:00:00</td>\n",
       "      <td>China</td>\n",
       "      <td>26.000</td>\n",
       "      <td>100.100</td>\n",
       "      <td>0.0</td>\n",
       "      <td>6.5</td>\n",
       "      <td>NaN</td>\n",
       "      <td>0</td>\n",
       "    </tr>\n",
       "    <tr>\n",
       "      <td>4</td>\n",
       "      <td>1901-03-31 07:11:00</td>\n",
       "      <td>1901</td>\n",
       "      <td>3</td>\n",
       "      <td>31</td>\n",
       "      <td>07:11:00</td>\n",
       "      <td>Bulgaria</td>\n",
       "      <td>43.400</td>\n",
       "      <td>28.700</td>\n",
       "      <td>NaN</td>\n",
       "      <td>6.4</td>\n",
       "      <td>NaN</td>\n",
       "      <td>4</td>\n",
       "    </tr>\n",
       "    <tr>\n",
       "      <td>...</td>\n",
       "      <td>...</td>\n",
       "      <td>...</td>\n",
       "      <td>...</td>\n",
       "      <td>...</td>\n",
       "      <td>...</td>\n",
       "      <td>...</td>\n",
       "      <td>...</td>\n",
       "      <td>...</td>\n",
       "      <td>...</td>\n",
       "      <td>...</td>\n",
       "      <td>...</td>\n",
       "      <td>...</td>\n",
       "    </tr>\n",
       "    <tr>\n",
       "      <td>1335</td>\n",
       "      <td>2011-03-24 20:25:00</td>\n",
       "      <td>2011</td>\n",
       "      <td>3</td>\n",
       "      <td>24</td>\n",
       "      <td>20:25:00</td>\n",
       "      <td>Burma</td>\n",
       "      <td>NaN</td>\n",
       "      <td>NaN</td>\n",
       "      <td>NaN</td>\n",
       "      <td>6.8</td>\n",
       "      <td>NaN</td>\n",
       "      <td>150</td>\n",
       "    </tr>\n",
       "    <tr>\n",
       "      <td>1336</td>\n",
       "      <td>2011-04-07 14:32:00</td>\n",
       "      <td>2011</td>\n",
       "      <td>4</td>\n",
       "      <td>7</td>\n",
       "      <td>14:32:00</td>\n",
       "      <td>Japan</td>\n",
       "      <td>38.200</td>\n",
       "      <td>140.000</td>\n",
       "      <td>66.0</td>\n",
       "      <td>7.1</td>\n",
       "      <td>NaN</td>\n",
       "      <td>0</td>\n",
       "    </tr>\n",
       "    <tr>\n",
       "      <td>1337</td>\n",
       "      <td>2011-09-18 12:40:00</td>\n",
       "      <td>2011</td>\n",
       "      <td>9</td>\n",
       "      <td>18</td>\n",
       "      <td>12:40:00</td>\n",
       "      <td>India</td>\n",
       "      <td>27.723</td>\n",
       "      <td>88.064</td>\n",
       "      <td>19.7</td>\n",
       "      <td>6.9</td>\n",
       "      <td>landslide</td>\n",
       "      <td>111</td>\n",
       "    </tr>\n",
       "    <tr>\n",
       "      <td>1338</td>\n",
       "      <td>2011-09-23 10:41:00</td>\n",
       "      <td>2011</td>\n",
       "      <td>9</td>\n",
       "      <td>23</td>\n",
       "      <td>10:41:00</td>\n",
       "      <td>Turkey</td>\n",
       "      <td>38.600</td>\n",
       "      <td>43.500</td>\n",
       "      <td>7.2</td>\n",
       "      <td>7.1</td>\n",
       "      <td>NaN</td>\n",
       "      <td>601</td>\n",
       "    </tr>\n",
       "    <tr>\n",
       "      <td>1339</td>\n",
       "      <td>2018-08-05 19:46:00</td>\n",
       "      <td>2018</td>\n",
       "      <td>8</td>\n",
       "      <td>5</td>\n",
       "      <td>19:46:00</td>\n",
       "      <td>Indonesia</td>\n",
       "      <td>NaN</td>\n",
       "      <td>NaN</td>\n",
       "      <td>31.0</td>\n",
       "      <td>6.9</td>\n",
       "      <td>NaN</td>\n",
       "      <td>0</td>\n",
       "    </tr>\n",
       "  </tbody>\n",
       "</table>\n",
       "<p>1340 rows × 12 columns</p>\n",
       "</div>"
      ],
      "text/plain": [
       "                     date  year  month  day      time    country  latitude  \\\n",
       "0     1900-05-11 17:23:00  1900      5   11  17:23:00      Japan    38.700   \n",
       "1     1900-07-12 06:25:00  1900      7   12  06:25:00     Turkey    40.300   \n",
       "2     1900-10-29 09:11:00  1900     10   29  09:11:00  Venezuela    11.000   \n",
       "3     1901-02-15 00:00:00  1901      2   15  00:00:00      China    26.000   \n",
       "4     1901-03-31 07:11:00  1901      3   31  07:11:00   Bulgaria    43.400   \n",
       "...                   ...   ...    ...  ...       ...        ...       ...   \n",
       "1335  2011-03-24 20:25:00  2011      3   24  20:25:00      Burma       NaN   \n",
       "1336  2011-04-07 14:32:00  2011      4    7  14:32:00      Japan    38.200   \n",
       "1337  2011-09-18 12:40:00  2011      9   18  12:40:00      India    27.723   \n",
       "1338  2011-09-23 10:41:00  2011      9   23  10:41:00     Turkey    38.600   \n",
       "1339  2018-08-05 19:46:00  2018      8    5  19:46:00  Indonesia       NaN   \n",
       "\n",
       "      longitude  depth  magnitude secondary_effects  deaths  \n",
       "0       141.100    5.0        7.0               NaN       0  \n",
       "1        43.100    NaN        5.9               NaN     140  \n",
       "2       -66.000    0.0        7.7               NaN       0  \n",
       "3       100.100    0.0        6.5               NaN       0  \n",
       "4        28.700    NaN        6.4               NaN       4  \n",
       "...         ...    ...        ...               ...     ...  \n",
       "1335        NaN    NaN        6.8               NaN     150  \n",
       "1336    140.000   66.0        7.1               NaN       0  \n",
       "1337     88.064   19.7        6.9         landslide     111  \n",
       "1338     43.500    7.2        7.1               NaN     601  \n",
       "1339        NaN   31.0        6.9               NaN       0  \n",
       "\n",
       "[1340 rows x 12 columns]"
      ]
     },
     "execution_count": 2,
     "metadata": {},
     "output_type": "execute_result"
    }
   ],
   "source": [
    "world_earthquakes = pd.read_csv('../data/world_earthquakes_06_clean.csv')\n",
    "world_earthquakes"
   ]
  },
  {
   "cell_type": "markdown",
   "metadata": {},
   "source": [
    "# As relates to New Madrid fault and Tennessee areas, are there factors that make an earthquake more likely?  Are there factors that make an earthquake more deadly?"
   ]
  },
  {
   "cell_type": "code",
   "execution_count": 3,
   "metadata": {},
   "outputs": [
    {
     "data": {
      "text/html": [
       "<div>\n",
       "<style scoped>\n",
       "    .dataframe tbody tr th:only-of-type {\n",
       "        vertical-align: middle;\n",
       "    }\n",
       "\n",
       "    .dataframe tbody tr th {\n",
       "        vertical-align: top;\n",
       "    }\n",
       "\n",
       "    .dataframe thead th {\n",
       "        text-align: right;\n",
       "    }\n",
       "</style>\n",
       "<table border=\"1\" class=\"dataframe\">\n",
       "  <thead>\n",
       "    <tr style=\"text-align: right;\">\n",
       "      <th></th>\n",
       "      <th>date</th>\n",
       "      <th>year</th>\n",
       "      <th>month</th>\n",
       "      <th>day</th>\n",
       "      <th>time</th>\n",
       "      <th>country</th>\n",
       "      <th>latitude</th>\n",
       "      <th>longitude</th>\n",
       "      <th>depth</th>\n",
       "      <th>magnitude</th>\n",
       "      <th>secondary_effects</th>\n",
       "      <th>deaths</th>\n",
       "    </tr>\n",
       "  </thead>\n",
       "  <tbody>\n",
       "    <tr>\n",
       "      <td>0</td>\n",
       "      <td>1900-05-11 17:23:00</td>\n",
       "      <td>1900</td>\n",
       "      <td>5</td>\n",
       "      <td>11</td>\n",
       "      <td>17:23:00</td>\n",
       "      <td>Japan</td>\n",
       "      <td>38.7</td>\n",
       "      <td>141.1</td>\n",
       "      <td>5.0</td>\n",
       "      <td>7.0</td>\n",
       "      <td>NaN</td>\n",
       "      <td>0</td>\n",
       "    </tr>\n",
       "    <tr>\n",
       "      <td>5</td>\n",
       "      <td>1901-08-09 09:23:00</td>\n",
       "      <td>1901</td>\n",
       "      <td>8</td>\n",
       "      <td>9</td>\n",
       "      <td>09:23:00</td>\n",
       "      <td>Japan</td>\n",
       "      <td>40.5</td>\n",
       "      <td>142.5</td>\n",
       "      <td>35.0</td>\n",
       "      <td>7.2</td>\n",
       "      <td>tsunami</td>\n",
       "      <td>0</td>\n",
       "    </tr>\n",
       "    <tr>\n",
       "      <td>7</td>\n",
       "      <td>1902-01-30 14:01:00</td>\n",
       "      <td>1902</td>\n",
       "      <td>1</td>\n",
       "      <td>30</td>\n",
       "      <td>14:01:00</td>\n",
       "      <td>Japan</td>\n",
       "      <td>40.5</td>\n",
       "      <td>141.3</td>\n",
       "      <td>35.0</td>\n",
       "      <td>6.9</td>\n",
       "      <td>NaN</td>\n",
       "      <td>1</td>\n",
       "    </tr>\n",
       "    <tr>\n",
       "      <td>26</td>\n",
       "      <td>1905-06-02 05:39:00</td>\n",
       "      <td>1905</td>\n",
       "      <td>6</td>\n",
       "      <td>2</td>\n",
       "      <td>05:39:00</td>\n",
       "      <td>Japan</td>\n",
       "      <td>34.1</td>\n",
       "      <td>132.5</td>\n",
       "      <td>55.0</td>\n",
       "      <td>7.0</td>\n",
       "      <td>NaN</td>\n",
       "      <td>11</td>\n",
       "    </tr>\n",
       "    <tr>\n",
       "      <td>50</td>\n",
       "      <td>1909-08-14 06:31:00</td>\n",
       "      <td>1909</td>\n",
       "      <td>8</td>\n",
       "      <td>14</td>\n",
       "      <td>06:31:00</td>\n",
       "      <td>Japan</td>\n",
       "      <td>35.4</td>\n",
       "      <td>136.3</td>\n",
       "      <td>5.0</td>\n",
       "      <td>6.7</td>\n",
       "      <td>NaN</td>\n",
       "      <td>41</td>\n",
       "    </tr>\n",
       "  </tbody>\n",
       "</table>\n",
       "</div>"
      ],
      "text/plain": [
       "                   date  year  month  day      time country  latitude  \\\n",
       "0   1900-05-11 17:23:00  1900      5   11  17:23:00   Japan      38.7   \n",
       "5   1901-08-09 09:23:00  1901      8    9  09:23:00   Japan      40.5   \n",
       "7   1902-01-30 14:01:00  1902      1   30  14:01:00   Japan      40.5   \n",
       "26  1905-06-02 05:39:00  1905      6    2  05:39:00   Japan      34.1   \n",
       "50  1909-08-14 06:31:00  1909      8   14  06:31:00   Japan      35.4   \n",
       "\n",
       "    longitude  depth  magnitude secondary_effects  deaths  \n",
       "0       141.1    5.0        7.0               NaN       0  \n",
       "5       142.5   35.0        7.2           tsunami       0  \n",
       "7       141.3   35.0        6.9               NaN       1  \n",
       "26      132.5   55.0        7.0               NaN      11  \n",
       "50      136.3    5.0        6.7               NaN      41  "
      ]
     },
     "execution_count": 3,
     "metadata": {},
     "output_type": "execute_result"
    }
   ],
   "source": [
    "Japan = world_earthquakes[world_earthquakes['country'].str.contains('Japan')]\n",
    "Japan.head()"
   ]
  },
  {
   "cell_type": "code",
   "execution_count": 32,
   "metadata": {
    "scrolled": false
   },
   "outputs": [
    {
     "data": {
      "text/plain": [
       "Text(0.5, 1.0, \"Magnitudes of Japan's Quakes since 1900\")"
      ]
     },
     "execution_count": 32,
     "metadata": {},
     "output_type": "execute_result"
    },
    {
     "data": {
      "image/png": "[encoded data removed]",
      "text/plain": [
       "<Figure size 1440x288 with 1 Axes>"
      ]
     },
     "metadata": {
      "needs_background": "light"
     },
     "output_type": "display_data"
    }
   ],
   "source": [
    "plt.figure(figsize=(20,4)) \n",
    "sns.scatterplot(data = Japan, x = 'year', y = 'magnitude', hue = 'depth')\n",
    "plt.xlabel('year', size = 14)\n",
    "plt.ylabel('magnitude', size = 14)\n",
    "plt.title(\"Magnitudes of Japan's Quakes since 1900\", size=18)"
   ]
  },
  {
   "cell_type": "code",
   "execution_count": 29,
   "metadata": {},
   "outputs": [
    {
     "data": {
      "text/plain": [
       "Text(0.5, 1.0, \"Magnitudes of Japan's Quakes since 1900\")"
      ]
     },
     "execution_count": 29,
     "metadata": {},
     "output_type": "execute_result"
    },
    {
     "data": {
      "image/png": "[encoded data removed]",
      "text/plain": [
       "<Figure size 1440x288 with 1 Axes>"
      ]
     },
     "metadata": {
      "needs_background": "light"
     },
     "output_type": "display_data"
    }
   ],
   "source": [
    "plt.figure(figsize=(20,4)) \n",
    "sns.lineplot(data = Japan, x = 'year', y = 'magnitude')\n",
    "plt.xlabel('year', size = 14)\n",
    "plt.ylabel('magnitude', size = 14)\n",
    "plt.title(\"Magnitudes of Japan's Quakes since 1900\", size=18)"
   ]
  },
  {
   "cell_type": "markdown",
   "metadata": {},
   "source": [
    "New Madrid area (NW corner of TN), being a reverse fault, has high potential to cause magnutide 8.0 or higher, while srike-slip fault segments directly east of the state are dangerous, but cap-out in the magnitude 8 range.  Looking at pattern of quakes in Japan's history (this convergent boundry includes a number of inland reverse faults), there may be some tendency toward higher-magnitude events in the few years following lower-mag events, but this is not entirely clear.  The East Tennessee Seismic Zone's geological ambiguity, both structural and dynamic (see excerpt at very end of this notebook) make this region equally difficult to predict.  The only factors certain to 'make an earthquake more likely' are proximity in both time and location to other major events, and perhaps following some frequency for events of a given magnitude."
   ]
  },
  {
   "cell_type": "code",
   "execution_count": 33,
   "metadata": {},
   "outputs": [
    {
     "data": {
      "text/html": [
       "<img src=\"https://cdn.britannica.com/s:700x500/25/138725-050-43341935/Map-earthquakes-New-Madrid.jpg\"/>"
      ],
      "text/plain": [
       "<IPython.core.display.Image object>"
      ]
     },
     "execution_count": 33,
     "metadata": {},
     "output_type": "execute_result"
    }
   ],
   "source": [
    "from IPython.display import Image\n",
    "from IPython.core.display import HTML \n",
    "Image(url= \"https://cdn.britannica.com/s:700x500/25/138725-050-43341935/Map-earthquakes-New-Madrid.jpg\")"
   ]
  },
  {
   "cell_type": "code",
   "execution_count": 34,
   "metadata": {},
   "outputs": [
    {
     "data": {
      "text/html": [
       "<img src=\"https://static.temblor.net/wp-content/uploads/2020/08/Fig26_earthquake-map-withmercalli-scale.jpg\"/>"
      ],
      "text/plain": [
       "<IPython.core.display.Image object>"
      ]
     },
     "execution_count": 34,
     "metadata": {},
     "output_type": "execute_result"
    }
   ],
   "source": [
    "from IPython.display import Image\n",
    "from IPython.core.display import HTML \n",
    "Image(url= \"https://static.temblor.net/wp-content/uploads/2020/08/Fig26_earthquake-map-withmercalli-scale.jpg\")"
   ]
  },
  {
   "cell_type": "markdown",
   "metadata": {},
   "source": [
    "Based on the above maps of intensity of earthquakes in recent centuries, should either or both of the two seismic areas produce a major event in the next *n* years, the following metro areas should plan for similar intiensities (Mercalli ranging from I to X) given *one* of the 3 scenarios:\n",
    "\n",
    "(team: make into table or df?  I have added the plus when bordering on higher category, keep these?)\n",
    "\n",
    "New Madrid Seismic Zone ONLY:  \n",
    "Memphis: IX+ (violent+)  \n",
    "Nashville: VII (very strong)  \n",
    "Chattanooga: VI+ (strong+)  \n",
    "Knoxville: VI (strong)\n",
    "\n",
    "East Tennessee Seismic Zone ONLY:  \n",
    "Memphis: I (not felt)  \n",
    "Nashville: II+ (weak+)  \n",
    "Chattanooga: V+ (moderate+)  \n",
    "Knoxville: VI (strong)\n",
    "\n",
    "Resulting Effects of NEXT major Tennessee Event (if each zone is equally likely to produce it):  \n",
    "Memphis: 50% chance of any, although violent or worse effects.  \n",
    "Nashville: 90+% chance of at least weak effects, 50% chance very strong.  \n",
    "Chattanooga: 90+% chance of at least modrate/strong effects, 50% chance strong/very strong.  \n",
    "Knoxville: 90+% chance of strong effects.\n",
    "\n",
    "Ideally, if we were to plan for the next major events by *both* zones, and to prepare for one level *beyond* expected intensity given the very limited historical data:  \n",
    "Memphis: X (extreme)  \n",
    "Nashville: VIII (severe)  \n",
    "Chattanooga: VII (very strong)  \n",
    "Knoxville: VII (very strong)\n",
    "\n",
    "So, in public education, public spaces, certain civil engineering and regulatory decisions that may not be as budget-involved as renovation and emergency resource stores, these higher levels of preparedness are advised."
   ]
  },
  {
   "cell_type": "markdown",
   "metadata": {},
   "source": [
    "\"At well-studied plate boundaries like the San Andreas fault system in California, often scientists can determine the name of the specific fault that is responsible for an earthquake. In contrast, east of the Rocky Mountains this is rarely the case. The Eastern Tennessee seismic zone is far from the nearest plate boundaries, which are in the center of the Atlantic Ocean and in the Caribbean Sea. The Eastern Tennessee seismic zone is laced with known faults but numerous smaller or deeply buried faults remain undetected. Even the known faults are poorly located at earthquake depths. Accordingly, few, if any, earthquakes in the Eastern Tennessee seismic zone can be linked to named faults. It is difficult to determine if a known fault is still active and could slip and cause an earthquake. As in most other areas east of the Rockies, the best guide to earthquake hazards in the seismic zone is the earthquakes themselves.\"\n",
    "https://earthquake.usgs.gov/earthquakes/eventpage/se60100238/region-info"
   ]
  },
  {
   "cell_type": "code",
   "execution_count": null,
   "metadata": {},
   "outputs": [],
   "source": []
  }
 ],
 "metadata": {
  "kernelspec": {
   "display_name": "Python 3",
   "language": "python",
   "name": "python3"
  },
  "language_info": {
   "codemirror_mode": {
    "name": "ipython",
    "version": 3
   },
   "file_extension": ".py",
   "mimetype": "text/x-python",
   "name": "python",
   "nbconvert_exporter": "python",
   "pygments_lexer": "ipython3",
   "version": "3.7.4"
  }
 },
 "nbformat": 4,
 "nbformat_minor": 2
}
