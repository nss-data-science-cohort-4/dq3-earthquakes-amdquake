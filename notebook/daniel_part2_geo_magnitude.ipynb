{
 "cells": [
  {
   "cell_type": "code",
   "execution_count": 1,
   "metadata": {},
   "outputs": [
    {
     "ename": "ModuleNotFoundError",
     "evalue": "No module named 'shapely'",
     "output_type": "error",
     "traceback": [
      "\u001b[1;31m---------------------------------------------------------------------------\u001b[0m",
      "\u001b[1;31mModuleNotFoundError\u001b[0m                       Traceback (most recent call last)",
      "\u001b[1;32m<ipython-input-1-dd5d7645ddea>\u001b[0m in \u001b[0;36m<module>\u001b[1;34m\u001b[0m\n\u001b[1;32m----> 1\u001b[1;33m \u001b[1;32mfrom\u001b[0m \u001b[0mshapely\u001b[0m\u001b[1;33m.\u001b[0m\u001b[0mgeometry\u001b[0m \u001b[1;32mimport\u001b[0m \u001b[0mPoint\u001b[0m\u001b[1;33m\u001b[0m\u001b[1;33m\u001b[0m\u001b[0m\n\u001b[0m\u001b[0;32m      2\u001b[0m \u001b[1;32mimport\u001b[0m \u001b[0mpandas\u001b[0m \u001b[1;32mas\u001b[0m \u001b[0mpd\u001b[0m\u001b[1;33m\u001b[0m\u001b[1;33m\u001b[0m\u001b[0m\n\u001b[0;32m      3\u001b[0m \u001b[1;32mimport\u001b[0m \u001b[0mgeopandas\u001b[0m \u001b[1;32mas\u001b[0m \u001b[0mgpd\u001b[0m\u001b[1;33m\u001b[0m\u001b[1;33m\u001b[0m\u001b[0m\n\u001b[0;32m      4\u001b[0m \u001b[1;32mimport\u001b[0m \u001b[0mmatplotlib\u001b[0m\u001b[1;33m.\u001b[0m\u001b[0mpyplot\u001b[0m \u001b[1;32mas\u001b[0m \u001b[0mplt\u001b[0m\u001b[1;33m\u001b[0m\u001b[1;33m\u001b[0m\u001b[0m\n\u001b[0;32m      5\u001b[0m \u001b[1;32mimport\u001b[0m \u001b[0mfolium\u001b[0m\u001b[1;33m\u001b[0m\u001b[1;33m\u001b[0m\u001b[0m\n",
      "\u001b[1;31mModuleNotFoundError\u001b[0m: No module named 'shapely'"
     ]
    }
   ],
   "source": [
    "from shapely.geometry import Point\n",
    "import pandas as pd\n",
    "import geopandas as gpd\n",
    "import matplotlib.pyplot as plt\n",
    "import folium\n",
    "from folium.plugins import MarkerCluster\n",
    "from folium.plugins import FastMarkerCluster\n",
    "import json"
   ]
  },
  {
   "cell_type": "code",
   "execution_count": null,
   "metadata": {},
   "outputs": [],
   "source": [
    "tn_quake = pd.read_csv(\"../data/earthquake_tn_01_clean.csv\")\n",
    "tn_quake.shape"
   ]
  },
  {
   "cell_type": "markdown",
   "metadata": {},
   "source": [
    "if possible find closest city with a geopandas trick?"
   ]
  },
  {
   "cell_type": "markdown",
   "metadata": {},
   "source": [
    "## create a map view with folium"
   ]
  },
  {
   "cell_type": "code",
   "execution_count": null,
   "metadata": {},
   "outputs": [],
   "source": [
    "center = (35, -86)"
   ]
  },
  {
   "cell_type": "code",
   "execution_count": null,
   "metadata": {},
   "outputs": [],
   "source": [
    "map_tn = folium.Map(location = center, zoom_start = 7)\n",
    "#map_tn"
   ]
  },
  {
   "cell_type": "code",
   "execution_count": null,
   "metadata": {},
   "outputs": [],
   "source": [
    "#print(tn_quake.dtypes)"
   ]
  },
  {
   "cell_type": "markdown",
   "metadata": {},
   "source": [
    "### needed extra map assignments because of output conflicts"
   ]
  },
  {
   "cell_type": "markdown",
   "metadata": {},
   "source": [
    "#### didn't work\n",
    "\n",
    "map_tn2 = map_tn  \n",
    "map_tn3 = map_tn  \n",
    "map_tn4 = map_tn  \n",
    "map_tn5 = map_tn  \n",
    "map_tn6 = map_tn  \n",
    "map_tn7 = map_tn  \n",
    "map_tn8 = map_tn"
   ]
  },
  {
   "cell_type": "code",
   "execution_count": null,
   "metadata": {},
   "outputs": [],
   "source": [
    "map_tn0 = folium.Map(location = center, zoom_start = 7)\n",
    "map_tn1 = folium.Map(location = center, zoom_start = 7)\n",
    "map_tn2 = folium.Map(location = center, zoom_start = 7)\n",
    "map_tn3 = folium.Map(location = center, zoom_start = 7)\n",
    "map_tn4 = folium.Map(location = center, zoom_start = 7)"
   ]
  },
  {
   "cell_type": "markdown",
   "metadata": {},
   "source": [
    "#### works\n",
    "\n",
    "for i in range(0,len(tn_quake)):  \n",
    "   folium.Circle(  \n",
    "      location = [tn_quake.iloc[i]['latitude'], tn_quake.iloc[i]['longitude']],  \n",
    "      #popup = tn_quake.iloc[i]['place'],   \n",
    "      #radius = tn_quake.iloc[i]['magnitude']*10000,  \n",
    "      radius = 10000,  \n",
    "      color = 'lightblue',  \n",
    "      #color = tn_quake.iloc[i]['year'],  \n",
    "      fill = True,  \n",
    "      fill_color = 'lightblue'  \n",
    "   ).add_to(map_tn2)"
   ]
  },
  {
   "cell_type": "code",
   "execution_count": null,
   "metadata": {},
   "outputs": [],
   "source": [
    "#map_tn2"
   ]
  },
  {
   "cell_type": "code",
   "execution_count": null,
   "metadata": {},
   "outputs": [],
   "source": [
    "#tn_quake.info()"
   ]
  },
  {
   "cell_type": "code",
   "execution_count": null,
   "metadata": {},
   "outputs": [],
   "source": [
    "tn_quake_notna = tn_quake[tn_quake['magnitude'].notna()]\n",
    "tn_quake_notna = tn_quake_notna[tn_quake_notna['year'].notna()]\n",
    "tn_quake_notna['year'] = tn_quake_notna['year'].astype(float)\n",
    "tn_quake_notna.info()"
   ]
  },
  {
   "cell_type": "markdown",
   "metadata": {},
   "source": [
    "#### works\n",
    "\n",
    "for i in range(0,len(tn_quake_notna)):  \n",
    "   folium.Circle(  \n",
    "      location = [tn_quake_notna.iloc[i]['latitude'], tn_quake_notna.iloc[i]['longitude']],  \n",
    "      #popup = tn_quake.iloc[i]['place'],  \n",
    "      radius = tn_quake_notna.iloc[i]['magnitude']*1000,  \n",
    "      #radius = 10000,  \n",
    "      color = 'lightblue',  \n",
    "      #color = tn_quake.iloc[i]['year'],  \n",
    "      fill = True,  \n",
    "      fill_color = 'lightblue'  \n",
    "   ).add_to(map_tn4)  "
   ]
  },
  {
   "cell_type": "code",
   "execution_count": null,
   "metadata": {},
   "outputs": [],
   "source": [
    "#map_tn4"
   ]
  },
  {
   "cell_type": "markdown",
   "metadata": {},
   "source": [
    "for i in range(0,len(tn_quake_notna)):  \n",
    "   folium.Circle(  \n",
    "      location = [tn_quake_notna.iloc[i]['latitude'], tn_quake_notna.iloc[i]['longitude']],  \n",
    "      #popup = tn_quake.iloc[i]['place'],   \n",
    "      radius = tn_quake_notna.iloc[i]['magnitude']*1000,  \n",
    "      #radius = 10000,  \n",
    "      #color = 'lightblue',  \n",
    "      color = tn_quake.iloc[i]['magnitude'],   \n",
    "      fill = True,  \n",
    "      fill_color = tn_quake.iloc[i]['magnitude'],  \n",
    "   ).add_to(map_tn6)"
   ]
  },
  {
   "cell_type": "markdown",
   "metadata": {},
   "source": [
    "map_tn6"
   ]
  },
  {
   "cell_type": "markdown",
   "metadata": {},
   "source": [
    "(no need) tn_quake_notna.reset_index()"
   ]
  },
  {
   "cell_type": "markdown",
   "metadata": {},
   "source": [
    "(no need) tn_quake_notna.head()"
   ]
  },
  {
   "cell_type": "code",
   "execution_count": null,
   "metadata": {},
   "outputs": [],
   "source": [
    "import matplotlib\n",
    "import matplotlib.pyplot as plt"
   ]
  },
  {
   "cell_type": "code",
   "execution_count": null,
   "metadata": {},
   "outputs": [],
   "source": [
    "magnitudes = tn_quake_notna['magnitude'].hist(bins=30)"
   ]
  },
  {
   "cell_type": "markdown",
   "metadata": {},
   "source": [
    "#### this was all above mag 3\n",
    "\n",
    "tn_quake_mag3 = tn_quake_notna[tn_quake_notna['magnitude'] > 2.999]\n",
    "tn_quake_mag3.head()"
   ]
  },
  {
   "cell_type": "markdown",
   "metadata": {},
   "source": [
    "tn_quake_mag3.shape"
   ]
  },
  {
   "cell_type": "markdown",
   "metadata": {},
   "source": [
    "## get rid of non-null rows for folium compatibility"
   ]
  },
  {
   "cell_type": "code",
   "execution_count": null,
   "metadata": {},
   "outputs": [],
   "source": [
    "tn_quake_notna = tn_quake[tn_quake['magnitude'].notna()]\n",
    "tn_quake_notna = tn_quake_notna[tn_quake_notna['year'].notna()]\n",
    "tn_quake_notna['year'] = tn_quake_notna['year'].astype(float)\n",
    "tn_quake_notna.info()"
   ]
  },
  {
   "cell_type": "markdown",
   "metadata": {},
   "source": [
    "for i in range(0,len(tn_quake_mag3)):  \n",
    "   folium.Circle(  \n",
    "      location = [tn_quake_mag3.iloc[i]['latitude'], tn_quake_mag3.iloc[i]['longitude']],  \n",
    "      #popup = tn_quake.iloc[i]['place'],   \n",
    "      radius = tn_quake_mag3.iloc[i]['magnitude']*1000,  \n",
    "      #radius = 10000,  \n",
    "      color = 'lightblue',  \n",
    "      #color = tn_quake.iloc[i]['year'],  \n",
    "      fill = True,  \n",
    "      fill_color = 'lightblue'  \n",
    "   ).add_to(map_tn7)"
   ]
  },
  {
   "cell_type": "code",
   "execution_count": null,
   "metadata": {},
   "outputs": [],
   "source": [
    "# map_tn7"
   ]
  },
  {
   "cell_type": "code",
   "execution_count": null,
   "metadata": {},
   "outputs": [],
   "source": [
    "# tn_quake_mag3.info()"
   ]
  },
  {
   "cell_type": "markdown",
   "metadata": {},
   "source": [
    "map_tn9 = map_tn  \n",
    "map_tn10 = map_tn  \n",
    "map_tn11 = map_tn  \n",
    "map_tn12 = map_tn  \n",
    "map_tn13 = map_tn  \n",
    "map_tn14 = map_tn  \n",
    "map_tn15 = map_tn  \n",
    "map_tn10 = map_tn  \n",
    "map_tn11 = map_tn  \n",
    "map_tn12 = map_tn  \n",
    "map_tn13 = map_tn  \n",
    "map_tn14 = map_tn"
   ]
  },
  {
   "cell_type": "markdown",
   "metadata": {},
   "source": [
    "# Maps by incramental magnitude: radii indicate potential \"felt\" area"
   ]
  },
  {
   "cell_type": "code",
   "execution_count": null,
   "metadata": {},
   "outputs": [],
   "source": [
    "tn_quake_mag0 = tn_quake_notna[(tn_quake_notna['magnitude'] > 0) & (tn_quake_notna['magnitude'] < 1)]\n",
    "tn_quake_mag0['magnitude'].value_counts()"
   ]
  },
  {
   "cell_type": "code",
   "execution_count": null,
   "metadata": {},
   "outputs": [],
   "source": [
    "tn_quake_mag1 = tn_quake_notna[(tn_quake_notna['magnitude'] >= 1) & (tn_quake_notna['magnitude'] < 2)]\n",
    "tn_quake_mag1.shape"
   ]
  },
  {
   "cell_type": "code",
   "execution_count": null,
   "metadata": {},
   "outputs": [],
   "source": [
    "tn_quake_mag2 = tn_quake_notna[(tn_quake_notna['magnitude'] >= 2) & (tn_quake_notna['magnitude'] < 3)]\n",
    "tn_quake_mag2.shape"
   ]
  },
  {
   "cell_type": "code",
   "execution_count": null,
   "metadata": {
    "scrolled": true
   },
   "outputs": [],
   "source": [
    "tn_quake_mag3 = tn_quake_notna[(tn_quake_notna['magnitude'] >= 3) & (tn_quake_notna['magnitude'] < 4)]\n",
    "tn_quake_mag3.shape"
   ]
  },
  {
   "cell_type": "code",
   "execution_count": null,
   "metadata": {
    "scrolled": true
   },
   "outputs": [],
   "source": [
    "tn_quake_mag4 = tn_quake_notna[(tn_quake_notna['magnitude'] >= 4) & (tn_quake_notna['magnitude'] < 5)]\n",
    "tn_quake_mag4.shape"
   ]
  },
  {
   "cell_type": "code",
   "execution_count": null,
   "metadata": {},
   "outputs": [],
   "source": [
    "tn_quake_mag5 = tn_quake_notna[(tn_quake_notna['magnitude'] >= 5) & (tn_quake_notna['magnitude'] < 6)]\n",
    "tn_quake_mag5.shape"
   ]
  },
  {
   "cell_type": "code",
   "execution_count": null,
   "metadata": {
    "scrolled": false
   },
   "outputs": [],
   "source": [
    "for i in range(0,len(tn_quake_mag0)):\n",
    "   folium.Circle(\n",
    "      location = [tn_quake_mag0.iloc[i]['latitude'], tn_quake_mag0.iloc[i]['longitude']],\n",
    "      #popup = tn_quake.iloc[i]['place'], \n",
    "      radius = (tn_quake_mag0.iloc[i]['magnitude']*.7)**9,\n",
    "      #radius = 1,\n",
    "      color = 'black',\n",
    "      weight = 1, \n",
    "      #color = tn_quake.iloc[i]['year'], \n",
    "      fill = False,\n",
    "      fill_color = 'black'\n",
    "   ).add_to(map_tn0)\n",
    "map_tn0"
   ]
  },
  {
   "cell_type": "code",
   "execution_count": null,
   "metadata": {},
   "outputs": [],
   "source": [
    "for i in range(0,len(tn_quake_mag1)):\n",
    "   folium.Circle(\n",
    "      location = [tn_quake_mag1.iloc[i]['latitude'], tn_quake_mag1.iloc[i]['longitude']],\n",
    "      #popup = tn_quake.iloc[i]['place'], \n",
    "      radius = (tn_quake_mag1.iloc[i]['magnitude']*.79)**9,\n",
    "      #radius = 1000,\n",
    "      color = 'darkgreen',\n",
    "      weight = 1,\n",
    "      #color = tn_quake.iloc[i]['year'], \n",
    "      fill = True,\n",
    "      fill_color = 'darkgreen'\n",
    "   ).add_to(map_tn1)\n",
    "map_tn1"
   ]
  },
  {
   "cell_type": "code",
   "execution_count": null,
   "metadata": {
    "scrolled": false
   },
   "outputs": [],
   "source": [
    "for i in range(0,len(tn_quake_mag2)):\n",
    "   folium.Circle(\n",
    "      location = [tn_quake_mag2.iloc[i]['latitude'], tn_quake_mag2.iloc[i]['longitude']],\n",
    "      #popup = tn_quake.iloc[i]['place'], \n",
    "      radius = (tn_quake_mag2.iloc[i]['magnitude']*.85)**9,\n",
    "      #radius = 4000,\n",
    "      color = 'darkblue',\n",
    "      weight = 2,\n",
    "      #color = tn_quake.iloc[i]['year'], \n",
    "      fill = True,\n",
    "      fill_color = 'darkblue'\n",
    "   ).add_to(map_tn2)\n",
    "map_tn2"
   ]
  },
  {
   "cell_type": "code",
   "execution_count": null,
   "metadata": {
    "scrolled": false
   },
   "outputs": [],
   "source": [
    "for i in range(0,len(tn_quake_mag3)):\n",
    "   folium.Circle(\n",
    "      location = [tn_quake_mag3.iloc[i]['latitude'], tn_quake_mag3.iloc[i]['longitude']],\n",
    "      #popup = tn_quake.iloc[i]['place'], \n",
    "      radius = (tn_quake_mag3.iloc[i]['magnitude']*.75)**9,\n",
    "      #radius = 8000,\n",
    "      color = 'purple',\n",
    "      weight = 1,\n",
    "      #color = tn_quake.iloc[i]['year'], \n",
    "      fill = True,\n",
    "      fill_color = 'purple'\n",
    "   ).add_to(map_tn3)\n",
    "map_tn3"
   ]
  },
  {
   "cell_type": "code",
   "execution_count": null,
   "metadata": {
    "scrolled": false
   },
   "outputs": [],
   "source": [
    "for i in range(0,len(tn_quake_mag4)):\n",
    "   folium.Circle(\n",
    "      location = [tn_quake_mag4.iloc[i]['latitude'], tn_quake_mag4.iloc[i]['longitude']],\n",
    "      #popup = tn_quake.iloc[i]['place'], \n",
    "      radius = (tn_quake_mag4.iloc[i]['magnitude']*.7)**9,\n",
    "      #radius = 40000,\n",
    "      color = 'red',\n",
    "      weight = 1,\n",
    "      #color = tn_quake.iloc[i]['year'], \n",
    "      fill = True,\n",
    "      fill_color = 'red'\n",
    "   ).add_to(map_tn4)\n",
    "map_tn4"
   ]
  },
  {
   "cell_type": "code",
   "execution_count": null,
   "metadata": {},
   "outputs": [],
   "source": []
  }
 ],
 "metadata": {
  "kernelspec": {
   "display_name": "Python 3",
   "language": "python",
   "name": "python3"
  },
  "language_info": {
   "codemirror_mode": {
    "name": "ipython",
    "version": 3
   },
   "file_extension": ".py",
   "mimetype": "text/x-python",
   "name": "python",
   "nbconvert_exporter": "python",
   "pygments_lexer": "ipython3",
   "version": "3.7.4"
  }
 },
 "nbformat": 4,
 "nbformat_minor": 4
}
