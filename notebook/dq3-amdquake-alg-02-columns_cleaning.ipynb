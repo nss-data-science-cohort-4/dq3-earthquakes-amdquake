{
 "cells": [
  {
   "cell_type": "code",
   "execution_count": 1,
   "metadata": {},
   "outputs": [],
   "source": [
    "import pandas as pd\n",
    "import numpy as np\n",
    "import re"
   ]
  },
  {
   "cell_type": "code",
   "execution_count": 2,
   "metadata": {},
   "outputs": [],
   "source": [
    "world_earthquakes = pd.read_csv('../data/world_earthquakes.csv')"
   ]
  },
  {
   "cell_type": "code",
   "execution_count": 3,
   "metadata": {},
   "outputs": [
    {
     "data": {
      "text/html": [
       "<div>\n",
       "<style scoped>\n",
       "    .dataframe tbody tr th:only-of-type {\n",
       "        vertical-align: middle;\n",
       "    }\n",
       "\n",
       "    .dataframe tbody tr th {\n",
       "        vertical-align: top;\n",
       "    }\n",
       "\n",
       "    .dataframe thead th {\n",
       "        text-align: right;\n",
       "    }\n",
       "</style>\n",
       "<table border=\"1\" class=\"dataframe\">\n",
       "  <thead>\n",
       "    <tr style=\"text-align: right;\">\n",
       "      <th></th>\n",
       "      <th>date</th>\n",
       "      <th>country</th>\n",
       "      <th>latitude</th>\n",
       "      <th>longitude</th>\n",
       "      <th>depth</th>\n",
       "      <th>magnitude</th>\n",
       "      <th>secondary_effects</th>\n",
       "      <th>pde_shaking_deaths</th>\n",
       "      <th>pde_total_deaths</th>\n",
       "      <th>utsu_total_deaths</th>\n",
       "      <th>em_dat_total_deaths</th>\n",
       "      <th>others_source_deaths</th>\n",
       "    </tr>\n",
       "  </thead>\n",
       "  <tbody>\n",
       "    <tr>\n",
       "      <th>0</th>\n",
       "      <td>1900-05-11 17:23</td>\n",
       "      <td>Japan</td>\n",
       "      <td>38.700</td>\n",
       "      <td>141.100</td>\n",
       "      <td>5</td>\n",
       "      <td>7.0 MJMA</td>\n",
       "      <td>NaN</td>\n",
       "      <td>NaN</td>\n",
       "      <td>NaN</td>\n",
       "      <td>NaN</td>\n",
       "      <td>NaN</td>\n",
       "      <td>NaN</td>\n",
       "    </tr>\n",
       "    <tr>\n",
       "      <th>1</th>\n",
       "      <td>1900-07-12 06:25</td>\n",
       "      <td>Turkey</td>\n",
       "      <td>40.300</td>\n",
       "      <td>43.100</td>\n",
       "      <td>NaN</td>\n",
       "      <td>5.9 Muk</td>\n",
       "      <td>NaN</td>\n",
       "      <td>NaN</td>\n",
       "      <td>NaN</td>\n",
       "      <td>140.0</td>\n",
       "      <td>NaN</td>\n",
       "      <td>NaN</td>\n",
       "    </tr>\n",
       "    <tr>\n",
       "      <th>2</th>\n",
       "      <td>1900-10-29 09:11</td>\n",
       "      <td>Venezuela</td>\n",
       "      <td>11.000</td>\n",
       "      <td>-66.000</td>\n",
       "      <td>0</td>\n",
       "      <td>7.7 Mw</td>\n",
       "      <td>NaN</td>\n",
       "      <td>NaN</td>\n",
       "      <td>NaN</td>\n",
       "      <td>NaN</td>\n",
       "      <td>NaN</td>\n",
       "      <td>NaN</td>\n",
       "    </tr>\n",
       "    <tr>\n",
       "      <th>3</th>\n",
       "      <td>1901-02-15 00:00</td>\n",
       "      <td>China</td>\n",
       "      <td>26.000</td>\n",
       "      <td>100.100</td>\n",
       "      <td>0</td>\n",
       "      <td>6.5 Ms</td>\n",
       "      <td>NaN</td>\n",
       "      <td>NaN</td>\n",
       "      <td>NaN</td>\n",
       "      <td>NaN</td>\n",
       "      <td>NaN</td>\n",
       "      <td>NaN</td>\n",
       "    </tr>\n",
       "    <tr>\n",
       "      <th>4</th>\n",
       "      <td>1901-03-31 07:11</td>\n",
       "      <td>Bulgaria</td>\n",
       "      <td>43.400</td>\n",
       "      <td>28.700</td>\n",
       "      <td>NaN</td>\n",
       "      <td>6.4 Muk</td>\n",
       "      <td>NaN</td>\n",
       "      <td>NaN</td>\n",
       "      <td>NaN</td>\n",
       "      <td>4.0</td>\n",
       "      <td>NaN</td>\n",
       "      <td>NaN</td>\n",
       "    </tr>\n",
       "  </tbody>\n",
       "</table>\n",
       "</div>"
      ],
      "text/plain": [
       "               date    country latitude longitude depth magnitude  \\\n",
       "0  1900-05-11 17:23      Japan   38.700   141.100     5  7.0 MJMA   \n",
       "1  1900-07-12 06:25     Turkey   40.300    43.100   NaN   5.9 Muk   \n",
       "2  1900-10-29 09:11  Venezuela   11.000   -66.000     0    7.7 Mw   \n",
       "3  1901-02-15 00:00      China   26.000   100.100     0    6.5 Ms   \n",
       "4  1901-03-31 07:11   Bulgaria   43.400    28.700   NaN   6.4 Muk   \n",
       "\n",
       "  secondary_effects  pde_shaking_deaths  pde_total_deaths  utsu_total_deaths  \\\n",
       "0               NaN                 NaN               NaN                NaN   \n",
       "1               NaN                 NaN               NaN              140.0   \n",
       "2               NaN                 NaN               NaN                NaN   \n",
       "3               NaN                 NaN               NaN                NaN   \n",
       "4               NaN                 NaN               NaN                4.0   \n",
       "\n",
       "  em_dat_total_deaths others_source_deaths  \n",
       "0                 NaN                  NaN  \n",
       "1                 NaN                  NaN  \n",
       "2                 NaN                  NaN  \n",
       "3                 NaN                  NaN  \n",
       "4                 NaN                  NaN  "
      ]
     },
     "execution_count": 3,
     "metadata": {},
     "output_type": "execute_result"
    }
   ],
   "source": [
    "world_earthquakes.head()"
   ]
  },
  {
   "cell_type": "code",
   "execution_count": null,
   "metadata": {},
   "outputs": [],
   "source": [
    "world_earthquakes.tail()"
   ]
  },
  {
   "cell_type": "markdown",
   "metadata": {},
   "source": [
    "## Remove the footnotes from the column \"Other Source Deaths\""
   ]
  },
  {
   "cell_type": "code",
   "execution_count": null,
   "metadata": {},
   "outputs": [],
   "source": [
    "world_earthquakes.columns.unique()"
   ]
  },
  {
   "cell_type": "code",
   "execution_count": null,
   "metadata": {},
   "outputs": [],
   "source": [
    "world_earthquakes['others_sources_deaths'].unique()"
   ]
  },
  {
   "cell_type": "code",
   "execution_count": null,
   "metadata": {},
   "outputs": [],
   "source": [
    "world_earthquakes['em_dat_total_deaths'].unique()"
   ]
  },
  {
   "cell_type": "code",
   "execution_count": null,
   "metadata": {},
   "outputs": [],
   "source": [
    "def remove_footnotes (df, column):\n",
    "    re.split(r\"{[\\d]}\", df[column])"
   ]
  },
  {
   "cell_type": "code",
   "execution_count": null,
   "metadata": {},
   "outputs": [],
   "source": []
  },
  {
   "cell_type": "code",
   "execution_count": null,
   "metadata": {},
   "outputs": [],
   "source": [
    "remove_footnotes(world_earthquakes,'others_sources_deaths')"
   ]
  },
  {
   "cell_type": "code",
   "execution_count": null,
   "metadata": {},
   "outputs": [],
   "source": []
  },
  {
   "cell_type": "code",
   "execution_count": null,
   "metadata": {},
   "outputs": [],
   "source": []
  }
 ],
 "metadata": {
  "kernelspec": {
   "display_name": "Python 3",
   "language": "python",
   "name": "python3"
  },
  "language_info": {
   "codemirror_mode": {
    "name": "ipython",
    "version": 3
   },
   "file_extension": ".py",
   "mimetype": "text/x-python",
   "name": "python",
   "nbconvert_exporter": "python",
   "pygments_lexer": "ipython3",
   "version": "3.7.3"
  }
 },
 "nbformat": 4,
 "nbformat_minor": 2
}
