{
 "cells": [
  {
   "cell_type": "markdown",
   "metadata": {},
   "source": [
    "## All libraries import"
   ]
  },
  {
   "cell_type": "code",
   "execution_count": 1,
   "metadata": {},
   "outputs": [],
   "source": [
    "import pandas as pd\n",
    "import numpy as np\n",
    "import re"
   ]
  },
  {
   "cell_type": "markdown",
   "metadata": {},
   "source": [
    "## Importing the dataset"
   ]
  },
  {
   "cell_type": "code",
   "execution_count": 49,
   "metadata": {},
   "outputs": [
    {
     "data": {
      "text/html": [
       "<div>\n",
       "<style scoped>\n",
       "    .dataframe tbody tr th:only-of-type {\n",
       "        vertical-align: middle;\n",
       "    }\n",
       "\n",
       "    .dataframe tbody tr th {\n",
       "        vertical-align: top;\n",
       "    }\n",
       "\n",
       "    .dataframe thead th {\n",
       "        text-align: right;\n",
       "    }\n",
       "</style>\n",
       "<table border=\"1\" class=\"dataframe\">\n",
       "  <thead>\n",
       "    <tr style=\"text-align: right;\">\n",
       "      <th></th>\n",
       "      <th>date</th>\n",
       "      <th>country</th>\n",
       "      <th>latitude</th>\n",
       "      <th>longitude</th>\n",
       "      <th>depth</th>\n",
       "      <th>magnitude</th>\n",
       "      <th>secondary_effects</th>\n",
       "      <th>pde_shaking_deaths</th>\n",
       "      <th>pde_total_deaths</th>\n",
       "      <th>utsu_total_deaths</th>\n",
       "      <th>em_dat_total_deaths</th>\n",
       "      <th>others_source_deaths</th>\n",
       "    </tr>\n",
       "  </thead>\n",
       "  <tbody>\n",
       "    <tr>\n",
       "      <th>0</th>\n",
       "      <td>1900-05-11 17:23</td>\n",
       "      <td>Japan</td>\n",
       "      <td>38.700</td>\n",
       "      <td>141.100</td>\n",
       "      <td>5</td>\n",
       "      <td>7.0 MJMA</td>\n",
       "      <td>NaN</td>\n",
       "      <td>NaN</td>\n",
       "      <td>NaN</td>\n",
       "      <td>NaN</td>\n",
       "      <td>NaN</td>\n",
       "      <td>NaN</td>\n",
       "    </tr>\n",
       "    <tr>\n",
       "      <th>1</th>\n",
       "      <td>1900-07-12 06:25</td>\n",
       "      <td>Turkey</td>\n",
       "      <td>40.300</td>\n",
       "      <td>43.100</td>\n",
       "      <td>NaN</td>\n",
       "      <td>5.9 Muk</td>\n",
       "      <td>NaN</td>\n",
       "      <td>NaN</td>\n",
       "      <td>NaN</td>\n",
       "      <td>140.0</td>\n",
       "      <td>NaN</td>\n",
       "      <td>NaN</td>\n",
       "    </tr>\n",
       "    <tr>\n",
       "      <th>2</th>\n",
       "      <td>1900-10-29 09:11</td>\n",
       "      <td>Venezuela</td>\n",
       "      <td>11.000</td>\n",
       "      <td>-66.000</td>\n",
       "      <td>0</td>\n",
       "      <td>7.7 Mw</td>\n",
       "      <td>NaN</td>\n",
       "      <td>NaN</td>\n",
       "      <td>NaN</td>\n",
       "      <td>NaN</td>\n",
       "      <td>NaN</td>\n",
       "      <td>NaN</td>\n",
       "    </tr>\n",
       "    <tr>\n",
       "      <th>3</th>\n",
       "      <td>1901-02-15 00:00</td>\n",
       "      <td>China</td>\n",
       "      <td>26.000</td>\n",
       "      <td>100.100</td>\n",
       "      <td>0</td>\n",
       "      <td>6.5 Ms</td>\n",
       "      <td>NaN</td>\n",
       "      <td>NaN</td>\n",
       "      <td>NaN</td>\n",
       "      <td>NaN</td>\n",
       "      <td>NaN</td>\n",
       "      <td>NaN</td>\n",
       "    </tr>\n",
       "    <tr>\n",
       "      <th>4</th>\n",
       "      <td>1901-03-31 07:11</td>\n",
       "      <td>Bulgaria</td>\n",
       "      <td>43.400</td>\n",
       "      <td>28.700</td>\n",
       "      <td>NaN</td>\n",
       "      <td>6.4 Muk</td>\n",
       "      <td>NaN</td>\n",
       "      <td>NaN</td>\n",
       "      <td>NaN</td>\n",
       "      <td>4.0</td>\n",
       "      <td>NaN</td>\n",
       "      <td>NaN</td>\n",
       "    </tr>\n",
       "  </tbody>\n",
       "</table>\n",
       "</div>"
      ],
      "text/plain": [
       "               date    country latitude longitude depth magnitude  \\\n",
       "0  1900-05-11 17:23      Japan   38.700   141.100     5  7.0 MJMA   \n",
       "1  1900-07-12 06:25     Turkey   40.300    43.100   NaN   5.9 Muk   \n",
       "2  1900-10-29 09:11  Venezuela   11.000   -66.000     0    7.7 Mw   \n",
       "3  1901-02-15 00:00      China   26.000   100.100     0    6.5 Ms   \n",
       "4  1901-03-31 07:11   Bulgaria   43.400    28.700   NaN   6.4 Muk   \n",
       "\n",
       "  secondary_effects  pde_shaking_deaths  pde_total_deaths  utsu_total_deaths  \\\n",
       "0               NaN                 NaN               NaN                NaN   \n",
       "1               NaN                 NaN               NaN              140.0   \n",
       "2               NaN                 NaN               NaN                NaN   \n",
       "3               NaN                 NaN               NaN                NaN   \n",
       "4               NaN                 NaN               NaN                4.0   \n",
       "\n",
       "  em_dat_total_deaths others_source_deaths  \n",
       "0                 NaN                  NaN  \n",
       "1                 NaN                  NaN  \n",
       "2                 NaN                  NaN  \n",
       "3                 NaN                  NaN  \n",
       "4                 NaN                  NaN  "
      ]
     },
     "execution_count": 49,
     "metadata": {},
     "output_type": "execute_result"
    }
   ],
   "source": [
    "world_earthquakes = pd.read_csv('../data/world_earthquakes.csv')\n",
    "world_earthquakes.head()"
   ]
  },
  {
   "cell_type": "code",
   "execution_count": 4,
   "metadata": {
    "scrolled": true
   },
   "outputs": [
    {
     "data": {
      "text/html": [
       "<div>\n",
       "<style scoped>\n",
       "    .dataframe tbody tr th:only-of-type {\n",
       "        vertical-align: middle;\n",
       "    }\n",
       "\n",
       "    .dataframe tbody tr th {\n",
       "        vertical-align: top;\n",
       "    }\n",
       "\n",
       "    .dataframe thead th {\n",
       "        text-align: right;\n",
       "    }\n",
       "</style>\n",
       "<table border=\"1\" class=\"dataframe\">\n",
       "  <thead>\n",
       "    <tr style=\"text-align: right;\">\n",
       "      <th></th>\n",
       "      <th>date</th>\n",
       "      <th>country</th>\n",
       "      <th>latitude</th>\n",
       "      <th>longitude</th>\n",
       "      <th>depth</th>\n",
       "      <th>magnitude</th>\n",
       "      <th>secondary_effects</th>\n",
       "      <th>pde_shaking_deaths</th>\n",
       "      <th>pde_total_deaths</th>\n",
       "      <th>utsu_total_deaths</th>\n",
       "      <th>em_dat_total_deaths</th>\n",
       "      <th>others_source_deaths</th>\n",
       "    </tr>\n",
       "  </thead>\n",
       "  <tbody>\n",
       "    <tr>\n",
       "      <th>1335</th>\n",
       "      <td>2011-03-24 20:25</td>\n",
       "      <td>Burma (see 2011 Burma earthquake)</td>\n",
       "      <td>NaN</td>\n",
       "      <td>NaN</td>\n",
       "      <td>NaN</td>\n",
       "      <td>6.8 Mw</td>\n",
       "      <td>NaN</td>\n",
       "      <td>NaN</td>\n",
       "      <td>NaN</td>\n",
       "      <td>NaN</td>\n",
       "      <td>NaN</td>\n",
       "      <td>150+</td>\n",
       "    </tr>\n",
       "    <tr>\n",
       "      <th>1336</th>\n",
       "      <td>2011-04-07 14:32</td>\n",
       "      <td>Japan (see April 2011 Miyagi earthquake)</td>\n",
       "      <td>38.2</td>\n",
       "      <td>140.0</td>\n",
       "      <td>66.0</td>\n",
       "      <td>7.1 Mw</td>\n",
       "      <td>NaN</td>\n",
       "      <td>NaN</td>\n",
       "      <td>NaN</td>\n",
       "      <td>NaN</td>\n",
       "      <td>NaN</td>\n",
       "      <td>NaN</td>\n",
       "    </tr>\n",
       "    <tr>\n",
       "      <th>1337</th>\n",
       "      <td>2011-09-18 12:40</td>\n",
       "      <td>India (see 2011 Sikkim earthquake)</td>\n",
       "      <td>27.723</td>\n",
       "      <td>88.064</td>\n",
       "      <td>19.7</td>\n",
       "      <td>6.9 Mw</td>\n",
       "      <td>L</td>\n",
       "      <td>NaN</td>\n",
       "      <td>NaN</td>\n",
       "      <td>NaN</td>\n",
       "      <td>NaN</td>\n",
       "      <td>111+</td>\n",
       "    </tr>\n",
       "    <tr>\n",
       "      <th>1338</th>\n",
       "      <td>2011-09-23 10:41</td>\n",
       "      <td>Turkey (see 2011 Van earthquake)</td>\n",
       "      <td>38.6</td>\n",
       "      <td>43.5</td>\n",
       "      <td>7.2</td>\n",
       "      <td>7.1 Mw</td>\n",
       "      <td>NaN</td>\n",
       "      <td>NaN</td>\n",
       "      <td>NaN</td>\n",
       "      <td>NaN</td>\n",
       "      <td>NaN</td>\n",
       "      <td>601 (as of October 30, 2011)</td>\n",
       "    </tr>\n",
       "    <tr>\n",
       "      <th>1339</th>\n",
       "      <td>2018-08-05 19:46</td>\n",
       "      <td>Indonesia (see Lombok earthquake)</td>\n",
       "      <td>NaN</td>\n",
       "      <td>NaN</td>\n",
       "      <td>31.0</td>\n",
       "      <td>6.9 Mw</td>\n",
       "      <td>NaN</td>\n",
       "      <td>NaN</td>\n",
       "      <td>NaN</td>\n",
       "      <td>NaN</td>\n",
       "      <td>NaN</td>\n",
       "      <td>NaN</td>\n",
       "    </tr>\n",
       "  </tbody>\n",
       "</table>\n",
       "</div>"
      ],
      "text/plain": [
       "                  date                                   country latitude  \\\n",
       "1335  2011-03-24 20:25         Burma (see 2011 Burma earthquake)      NaN   \n",
       "1336  2011-04-07 14:32  Japan (see April 2011 Miyagi earthquake)     38.2   \n",
       "1337  2011-09-18 12:40        India (see 2011 Sikkim earthquake)   27.723   \n",
       "1338  2011-09-23 10:41          Turkey (see 2011 Van earthquake)     38.6   \n",
       "1339  2018-08-05 19:46         Indonesia (see Lombok earthquake)      NaN   \n",
       "\n",
       "     longitude depth magnitude secondary_effects  pde_shaking_deaths  \\\n",
       "1335       NaN   NaN    6.8 Mw               NaN                 NaN   \n",
       "1336     140.0  66.0    7.1 Mw               NaN                 NaN   \n",
       "1337    88.064  19.7    6.9 Mw                 L                 NaN   \n",
       "1338      43.5   7.2    7.1 Mw               NaN                 NaN   \n",
       "1339       NaN  31.0    6.9 Mw               NaN                 NaN   \n",
       "\n",
       "      pde_total_deaths  utsu_total_deaths em_dat_total_deaths  \\\n",
       "1335               NaN                NaN                 NaN   \n",
       "1336               NaN                NaN                 NaN   \n",
       "1337               NaN                NaN                 NaN   \n",
       "1338               NaN                NaN                 NaN   \n",
       "1339               NaN                NaN                 NaN   \n",
       "\n",
       "              others_source_deaths  \n",
       "1335                          150+  \n",
       "1336                           NaN  \n",
       "1337                          111+  \n",
       "1338  601 (as of October 30, 2011)  \n",
       "1339                           NaN  "
      ]
     },
     "execution_count": 4,
     "metadata": {},
     "output_type": "execute_result"
    }
   ],
   "source": [
    "world_earthquakes.tail()"
   ]
  },
  {
   "cell_type": "code",
   "execution_count": 48,
   "metadata": {},
   "outputs": [
    {
     "data": {
      "text/plain": [
       "(1340, 12)"
      ]
     },
     "execution_count": 48,
     "metadata": {},
     "output_type": "execute_result"
    }
   ],
   "source": [
    "world_earthquakes.shape"
   ]
  },
  {
   "cell_type": "markdown",
   "metadata": {},
   "source": [
    "## 1/ Change NaN for 0 in integer columns \"others_source_deaths\", \"em_dat_total_deaths\", \"utsu_total_deaths\", \"pde_total_deaths\", \"pde_shaking_deaths\":"
   ]
  },
  {
   "cell_type": "code",
   "execution_count": 50,
   "metadata": {
    "scrolled": true
   },
   "outputs": [
    {
     "data": {
      "text/html": [
       "<div>\n",
       "<style scoped>\n",
       "    .dataframe tbody tr th:only-of-type {\n",
       "        vertical-align: middle;\n",
       "    }\n",
       "\n",
       "    .dataframe tbody tr th {\n",
       "        vertical-align: top;\n",
       "    }\n",
       "\n",
       "    .dataframe thead th {\n",
       "        text-align: right;\n",
       "    }\n",
       "</style>\n",
       "<table border=\"1\" class=\"dataframe\">\n",
       "  <thead>\n",
       "    <tr style=\"text-align: right;\">\n",
       "      <th></th>\n",
       "      <th>date</th>\n",
       "      <th>country</th>\n",
       "      <th>latitude</th>\n",
       "      <th>longitude</th>\n",
       "      <th>depth</th>\n",
       "      <th>magnitude</th>\n",
       "      <th>secondary_effects</th>\n",
       "      <th>pde_shaking_deaths</th>\n",
       "      <th>pde_total_deaths</th>\n",
       "      <th>utsu_total_deaths</th>\n",
       "      <th>em_dat_total_deaths</th>\n",
       "      <th>others_source_deaths</th>\n",
       "    </tr>\n",
       "  </thead>\n",
       "  <tbody>\n",
       "    <tr>\n",
       "      <th>0</th>\n",
       "      <td>1900-05-11 17:23</td>\n",
       "      <td>Japan</td>\n",
       "      <td>38.700</td>\n",
       "      <td>141.100</td>\n",
       "      <td>5</td>\n",
       "      <td>7.0 MJMA</td>\n",
       "      <td>NaN</td>\n",
       "      <td>0.0</td>\n",
       "      <td>0.0</td>\n",
       "      <td>0.0</td>\n",
       "      <td>0</td>\n",
       "      <td>0</td>\n",
       "    </tr>\n",
       "    <tr>\n",
       "      <th>1</th>\n",
       "      <td>1900-07-12 06:25</td>\n",
       "      <td>Turkey</td>\n",
       "      <td>40.300</td>\n",
       "      <td>43.100</td>\n",
       "      <td>NaN</td>\n",
       "      <td>5.9 Muk</td>\n",
       "      <td>NaN</td>\n",
       "      <td>0.0</td>\n",
       "      <td>0.0</td>\n",
       "      <td>140.0</td>\n",
       "      <td>0</td>\n",
       "      <td>0</td>\n",
       "    </tr>\n",
       "    <tr>\n",
       "      <th>2</th>\n",
       "      <td>1900-10-29 09:11</td>\n",
       "      <td>Venezuela</td>\n",
       "      <td>11.000</td>\n",
       "      <td>-66.000</td>\n",
       "      <td>0</td>\n",
       "      <td>7.7 Mw</td>\n",
       "      <td>NaN</td>\n",
       "      <td>0.0</td>\n",
       "      <td>0.0</td>\n",
       "      <td>0.0</td>\n",
       "      <td>0</td>\n",
       "      <td>0</td>\n",
       "    </tr>\n",
       "    <tr>\n",
       "      <th>3</th>\n",
       "      <td>1901-02-15 00:00</td>\n",
       "      <td>China</td>\n",
       "      <td>26.000</td>\n",
       "      <td>100.100</td>\n",
       "      <td>0</td>\n",
       "      <td>6.5 Ms</td>\n",
       "      <td>NaN</td>\n",
       "      <td>0.0</td>\n",
       "      <td>0.0</td>\n",
       "      <td>0.0</td>\n",
       "      <td>0</td>\n",
       "      <td>0</td>\n",
       "    </tr>\n",
       "    <tr>\n",
       "      <th>4</th>\n",
       "      <td>1901-03-31 07:11</td>\n",
       "      <td>Bulgaria</td>\n",
       "      <td>43.400</td>\n",
       "      <td>28.700</td>\n",
       "      <td>NaN</td>\n",
       "      <td>6.4 Muk</td>\n",
       "      <td>NaN</td>\n",
       "      <td>0.0</td>\n",
       "      <td>0.0</td>\n",
       "      <td>4.0</td>\n",
       "      <td>0</td>\n",
       "      <td>0</td>\n",
       "    </tr>\n",
       "  </tbody>\n",
       "</table>\n",
       "</div>"
      ],
      "text/plain": [
       "               date    country latitude longitude depth magnitude  \\\n",
       "0  1900-05-11 17:23      Japan   38.700   141.100     5  7.0 MJMA   \n",
       "1  1900-07-12 06:25     Turkey   40.300    43.100   NaN   5.9 Muk   \n",
       "2  1900-10-29 09:11  Venezuela   11.000   -66.000     0    7.7 Mw   \n",
       "3  1901-02-15 00:00      China   26.000   100.100     0    6.5 Ms   \n",
       "4  1901-03-31 07:11   Bulgaria   43.400    28.700   NaN   6.4 Muk   \n",
       "\n",
       "  secondary_effects  pde_shaking_deaths  pde_total_deaths  utsu_total_deaths  \\\n",
       "0               NaN                 0.0               0.0                0.0   \n",
       "1               NaN                 0.0               0.0              140.0   \n",
       "2               NaN                 0.0               0.0                0.0   \n",
       "3               NaN                 0.0               0.0                0.0   \n",
       "4               NaN                 0.0               0.0                4.0   \n",
       "\n",
       "  em_dat_total_deaths others_source_deaths  \n",
       "0                   0                    0  \n",
       "1                   0                    0  \n",
       "2                   0                    0  \n",
       "3                   0                    0  \n",
       "4                   0                    0  "
      ]
     },
     "execution_count": 50,
     "metadata": {},
     "output_type": "execute_result"
    }
   ],
   "source": [
    "world_earthquakes['others_source_deaths'] = world_earthquakes['others_source_deaths'].fillna(0)\n",
    "world_earthquakes['em_dat_total_deaths'] = world_earthquakes['em_dat_total_deaths'].fillna(0)\n",
    "world_earthquakes['utsu_total_deaths'] = world_earthquakes['utsu_total_deaths'].fillna(0)\n",
    "world_earthquakes['pde_total_deaths'] = world_earthquakes['pde_total_deaths'].fillna(0)\n",
    "world_earthquakes['pde_shaking_deaths'] = world_earthquakes['pde_shaking_deaths'].fillna(0)\n",
    "world_earthquakes.head()"
   ]
  },
  {
   "cell_type": "markdown",
   "metadata": {},
   "source": [
    "## 2/ Change columns \"pde_shaking_deaths\", \"pde_total_deaths\", \"utsu_total_deaths\" into integer:"
   ]
  },
  {
   "cell_type": "code",
   "execution_count": 51,
   "metadata": {},
   "outputs": [
    {
     "name": "stdout",
     "output_type": "stream",
     "text": [
      "<class 'pandas.core.frame.DataFrame'>\n",
      "RangeIndex: 1340 entries, 0 to 1339\n",
      "Data columns (total 12 columns):\n",
      " #   Column                Non-Null Count  Dtype \n",
      "---  ------                --------------  ----- \n",
      " 0   date                  1340 non-null   object\n",
      " 1   country               1340 non-null   object\n",
      " 2   latitude              1325 non-null   object\n",
      " 3   longitude             1325 non-null   object\n",
      " 4   depth                 1250 non-null   object\n",
      " 5   magnitude             1339 non-null   object\n",
      " 6   secondary_effects     373 non-null    object\n",
      " 7   pde_shaking_deaths    1340 non-null   int32 \n",
      " 8   pde_total_deaths      1340 non-null   int32 \n",
      " 9   utsu_total_deaths     1340 non-null   int32 \n",
      " 10  em_dat_total_deaths   1340 non-null   object\n",
      " 11  others_source_deaths  1340 non-null   object\n",
      "dtypes: int32(3), object(9)\n",
      "memory usage: 110.0+ KB\n"
     ]
    }
   ],
   "source": [
    "world_earthquakes['pde_shaking_deaths'] = world_earthquakes['pde_shaking_deaths'].astype(int)\n",
    "world_earthquakes['pde_total_deaths'] = world_earthquakes['pde_total_deaths'].astype(int)\n",
    "world_earthquakes['utsu_total_deaths'] = world_earthquakes['utsu_total_deaths'].astype(int)\n",
    "\n",
    "world_earthquakes.info()"
   ]
  },
  {
   "cell_type": "code",
   "execution_count": 52,
   "metadata": {},
   "outputs": [
    {
     "data": {
      "text/plain": [
       "array([     0,   2000,     25,      2,     15,     13,     53,     24,\n",
       "         3000,     12,    136,     14,      1,      3,   1086,    176,\n",
       "           81,     65,    100,   1000,     83,      5,      7,   5054,\n",
       "            4,     11,   5000,     17,     26,    600,     10,     27,\n",
       "           78,   5300,     47,   2311,  23000,     49,      8,    900,\n",
       "            6,    422,    563, 655237,      9,    133,    167,     30,\n",
       "          348,     70,    584,     21,     22,     50,  15000,     76,\n",
       "          200,     18,    156,     37,     41,    280,     52,     60,\n",
       "          188,    300,    305,    150,     16,   1500,    220,     43,\n",
       "         2800,    450,    104,   1342,     34,    443,     20,    177,\n",
       "           23,     71,   9500,     29,    950,    998,    730,  25000,\n",
       "           62,    126,    135,  45000,   1621,     19,     75,    114,\n",
       "          498,     36,     61,    552,   9748,    295,    159,   5502,\n",
       "           42,   1989,    101,     84,    322,    108,   1100,   1572,\n",
       "           38,   2323,    105,   4000,    145,   1185,  17118,    143,\n",
       "         2297,    894,     46,    103,    267,  20023,    315,     48,\n",
       "           44,    261,   2266,  31000,    631,     40,     32,    612,\n",
       "         1303,  87351,   5749,     67,    514,  69195])"
      ]
     },
     "execution_count": 52,
     "metadata": {},
     "output_type": "execute_result"
    }
   ],
   "source": [
    "world_earthquakes['pde_shaking_deaths'].unique()"
   ]
  },
  {
   "cell_type": "markdown",
   "metadata": {},
   "source": [
    "## 3/ Change columns \"latitude\", \"longitude\" and \"depth\" in float:"
   ]
  },
  {
   "cell_type": "code",
   "execution_count": 53,
   "metadata": {},
   "outputs": [
    {
     "data": {
      "text/html": [
       "<div>\n",
       "<style scoped>\n",
       "    .dataframe tbody tr th:only-of-type {\n",
       "        vertical-align: middle;\n",
       "    }\n",
       "\n",
       "    .dataframe tbody tr th {\n",
       "        vertical-align: top;\n",
       "    }\n",
       "\n",
       "    .dataframe thead th {\n",
       "        text-align: right;\n",
       "    }\n",
       "</style>\n",
       "<table border=\"1\" class=\"dataframe\">\n",
       "  <thead>\n",
       "    <tr style=\"text-align: right;\">\n",
       "      <th></th>\n",
       "      <th>date</th>\n",
       "      <th>country</th>\n",
       "      <th>latitude</th>\n",
       "      <th>longitude</th>\n",
       "      <th>depth</th>\n",
       "      <th>magnitude</th>\n",
       "      <th>secondary_effects</th>\n",
       "      <th>pde_shaking_deaths</th>\n",
       "      <th>pde_total_deaths</th>\n",
       "      <th>utsu_total_deaths</th>\n",
       "      <th>em_dat_total_deaths</th>\n",
       "      <th>others_source_deaths</th>\n",
       "    </tr>\n",
       "  </thead>\n",
       "  <tbody>\n",
       "    <tr>\n",
       "      <th>413</th>\n",
       "      <td>1963-06-26 04:17</td>\n",
       "      <td>Macedonia (see 1963 Skopje earthquake)</td>\n",
       "      <td>?</td>\n",
       "      <td>??</td>\n",
       "      <td>?</td>\n",
       "      <td>6.1 Mw</td>\n",
       "      <td>NaN</td>\n",
       "      <td>0</td>\n",
       "      <td>1100</td>\n",
       "      <td>0</td>\n",
       "      <td>0</td>\n",
       "      <td>0</td>\n",
       "    </tr>\n",
       "  </tbody>\n",
       "</table>\n",
       "</div>"
      ],
      "text/plain": [
       "                 date                                 country latitude  \\\n",
       "413  1963-06-26 04:17  Macedonia (see 1963 Skopje earthquake)        ?   \n",
       "\n",
       "    longitude depth magnitude secondary_effects  pde_shaking_deaths  \\\n",
       "413        ??     ?    6.1 Mw               NaN                   0   \n",
       "\n",
       "     pde_total_deaths  utsu_total_deaths em_dat_total_deaths  \\\n",
       "413              1100                  0                   0   \n",
       "\n",
       "    others_source_deaths  \n",
       "413                    0  "
      ]
     },
     "execution_count": 53,
     "metadata": {},
     "output_type": "execute_result"
    }
   ],
   "source": [
    "world_earthquakes[world_earthquakes['latitude'] == '?']"
   ]
  },
  {
   "cell_type": "markdown",
   "metadata": {},
   "source": [
    "First problem = need to get rid of \"?\""
   ]
  },
  {
   "cell_type": "markdown",
   "metadata": {},
   "source": [
    "### Latitude column:"
   ]
  },
  {
   "cell_type": "code",
   "execution_count": 56,
   "metadata": {},
   "outputs": [],
   "source": [
    "# I found the info online for this specific event so I added the latitude\n",
    "world_earthquakes[\"latitude\"] = world_earthquakes[\"latitude\"].replace(\"?\", 42.100)\n",
    "world_earthquakes['latitude'] = world_earthquakes['latitude'].astype(float)"
   ]
  },
  {
   "cell_type": "markdown",
   "metadata": {},
   "source": [
    "### Longitude column:"
   ]
  },
  {
   "cell_type": "code",
   "execution_count": 57,
   "metadata": {},
   "outputs": [],
   "source": [
    "# I found the info online for this specific event so I added the longitude\n",
    "world_earthquakes[\"longitude\"] = world_earthquakes[\"longitude\"].replace(\"??\", 21.400)\n",
    "world_earthquakes['longitude'] = world_earthquakes['longitude'].astype(float)"
   ]
  },
  {
   "cell_type": "markdown",
   "metadata": {},
   "source": [
    "### Depth column:"
   ]
  },
  {
   "cell_type": "code",
   "execution_count": 58,
   "metadata": {},
   "outputs": [
    {
     "name": "stdout",
     "output_type": "stream",
     "text": [
      "<class 'pandas.core.frame.DataFrame'>\n",
      "RangeIndex: 1340 entries, 0 to 1339\n",
      "Data columns (total 12 columns):\n",
      " #   Column                Non-Null Count  Dtype  \n",
      "---  ------                --------------  -----  \n",
      " 0   date                  1340 non-null   object \n",
      " 1   country               1340 non-null   object \n",
      " 2   latitude              1325 non-null   float64\n",
      " 3   longitude             1325 non-null   float64\n",
      " 4   depth                 1250 non-null   float64\n",
      " 5   magnitude             1339 non-null   object \n",
      " 6   secondary_effects     373 non-null    object \n",
      " 7   pde_shaking_deaths    1340 non-null   int32  \n",
      " 8   pde_total_deaths      1340 non-null   int32  \n",
      " 9   utsu_total_deaths     1340 non-null   int32  \n",
      " 10  em_dat_total_deaths   1340 non-null   object \n",
      " 11  others_source_deaths  1340 non-null   object \n",
      "dtypes: float64(3), int32(3), object(6)\n",
      "memory usage: 110.0+ KB\n"
     ]
    }
   ],
   "source": [
    "# I found the info online for this specific event so I added the depth of 6 km\n",
    "world_earthquakes['depth'] = world_earthquakes[\"depth\"].replace(\"?\", 6.0)\n",
    "world_earthquakes['depth'] = world_earthquakes['depth'].astype(float)\n",
    "world_earthquakes.info()"
   ]
  },
  {
   "cell_type": "markdown",
   "metadata": {},
   "source": [
    "## 4/ Remove the footnote from the column \"em_dat_total_deaths\""
   ]
  },
  {
   "cell_type": "code",
   "execution_count": 59,
   "metadata": {},
   "outputs": [
    {
     "data": {
      "text/plain": [
       "Index(['date', 'country', 'latitude', 'longitude', 'depth', 'magnitude',\n",
       "       'secondary_effects', 'pde_shaking_deaths', 'pde_total_deaths',\n",
       "       'utsu_total_deaths', 'em_dat_total_deaths', 'others_source_deaths'],\n",
       "      dtype='object')"
      ]
     },
     "execution_count": 59,
     "metadata": {},
     "output_type": "execute_result"
    }
   ],
   "source": [
    "world_earthquakes.columns.unique()"
   ]
  },
  {
   "cell_type": "markdown",
   "metadata": {},
   "source": [
    "### NB: What I'm targeting is '10[7]|' and I want to get '10' instead, this is the only thing to change in this column:"
   ]
  },
  {
   "cell_type": "code",
   "execution_count": 60,
   "metadata": {},
   "outputs": [
    {
     "data": {
      "text/plain": [
       "array([0, '2000', '20000', '2500', '400', '12000', '75000', '923', '20',\n",
       "       '29980', '1800', '10000', '100', '116', '180000', '1000', '5000',\n",
       "       '143000', '2925', '200000', '107', '3300', '500', '0', '36', '256',\n",
       "       '6', '3008', '6000', '3410', '60000', '9', '149', '30000', '32962',\n",
       "       '249', '980', '200', '3000', '213', '1083', '2824', '3959', '998',\n",
       "       '1961', '4000', '165', '73', '1400', '233', '27', '5131', '110000',\n",
       "       '8', '437', '1500', '30', '14', '1200', '455', '7', '13', '1250',\n",
       "       '39', '53', '160', '28', '191', '57', '131', '4', '25', '23', '38',\n",
       "       '128', '10[7]|', '80', '2394', '120', '61', '54', '183', '240',\n",
       "       '177', '19', '47', '11', '271', '29', '15', '41', '24', '150',\n",
       "       '1086', '66794', '176', '65', '878', '85', '5057', '17', '78',\n",
       "       '2385', '1', '23000', '50', '2', '10', '922', '420', '573',\n",
       "       '242000', '16', '3840', '1641', '167', '352', '3', '185', '589',\n",
       "       '21', '25000', '45', '5', '121', '34', '26', '350', '60', '300',\n",
       "       '32', '69', '2633', '4689', '22', '250', '1507', '12', '102',\n",
       "       '1346', '275', '180', '67', '9500', '1100', '125', '709', '274',\n",
       "       '62', '126', '40000', '2412', '270', '653', '179', '552', '239',\n",
       "       '9748', '207', '171', '81', '5297', '40', '1989', '94', '84', '46',\n",
       "       '309', '166', '18', '1568', '43', '49', '2323', '95', '4700',\n",
       "       '1186', '70', '17127', '143', '2264', '31', '845', '103', '844',\n",
       "       '20005', '315', '145', '42', '227', '268', '2266', '26796', '37',\n",
       "       '628', '35', '33', '612', '915', '73338', '63', '519', '87476'],\n",
       "      dtype=object)"
      ]
     },
     "execution_count": 60,
     "metadata": {},
     "output_type": "execute_result"
    }
   ],
   "source": [
    "world_earthquakes['em_dat_total_deaths'].unique()"
   ]
  },
  {
   "cell_type": "markdown",
   "metadata": {},
   "source": [
    "### NB: What didn't work (and I would love some feedback!)"
   ]
  },
  {
   "cell_type": "markdown",
   "metadata": {},
   "source": [
    "What needs to be removed is [7]| from '10[7]|'\n"
   ]
  },
  {
   "cell_type": "code",
   "execution_count": 61,
   "metadata": {},
   "outputs": [],
   "source": [
    "test = '345[7]|'"
   ]
  },
  {
   "cell_type": "code",
   "execution_count": 64,
   "metadata": {},
   "outputs": [
    {
     "name": "stdout",
     "output_type": "stream",
     "text": [
      "['345', '']\n"
     ]
    }
   ],
   "source": [
    "print(re.split(r\"\\[\\d+]\\|\", test))"
   ]
  },
  {
   "cell_type": "markdown",
   "metadata": {},
   "source": [
    "**Feedback: When you run `split()`, the result will always be a list. So you will have to select the item from that returned list using index**"
   ]
  },
  {
   "cell_type": "code",
   "execution_count": 65,
   "metadata": {},
   "outputs": [
    {
     "name": "stdout",
     "output_type": "stream",
     "text": [
      "345\n"
     ]
    }
   ],
   "source": [
    "# Like so...\n",
    "print(re.split(r\"\\[\\d+]\\|\", test)[0]) # The item we want is the first element of the list"
   ]
  },
  {
   "cell_type": "markdown",
   "metadata": {},
   "source": [
    "The test works? **You will need to use `apply()` with a `lambda` function to make it work. Alternatively, you can use a separate function to replace the lambda function.**"
   ]
  },
  {
   "cell_type": "code",
   "execution_count": 92,
   "metadata": {
    "scrolled": true
   },
   "outputs": [
    {
     "data": {
      "text/html": [
       "<div>\n",
       "<style scoped>\n",
       "    .dataframe tbody tr th:only-of-type {\n",
       "        vertical-align: middle;\n",
       "    }\n",
       "\n",
       "    .dataframe tbody tr th {\n",
       "        vertical-align: top;\n",
       "    }\n",
       "\n",
       "    .dataframe thead th {\n",
       "        text-align: right;\n",
       "    }\n",
       "</style>\n",
       "<table border=\"1\" class=\"dataframe\">\n",
       "  <thead>\n",
       "    <tr style=\"text-align: right;\">\n",
       "      <th></th>\n",
       "      <th>date</th>\n",
       "      <th>country</th>\n",
       "      <th>latitude</th>\n",
       "      <th>longitude</th>\n",
       "      <th>depth</th>\n",
       "      <th>magnitude</th>\n",
       "      <th>secondary_effects</th>\n",
       "      <th>pde_shaking_deaths</th>\n",
       "      <th>pde_total_deaths</th>\n",
       "      <th>utsu_total_deaths</th>\n",
       "      <th>em_dat_total_deaths</th>\n",
       "      <th>others_source_deaths</th>\n",
       "      <th>test_col</th>\n",
       "    </tr>\n",
       "  </thead>\n",
       "  <tbody>\n",
       "    <tr>\n",
       "      <th>439</th>\n",
       "      <td>1966-04-25 23:22</td>\n",
       "      <td>Uzbekistan (see 1966 Tashkent earthquake)</td>\n",
       "      <td>NaN</td>\n",
       "      <td>NaN</td>\n",
       "      <td>NaN</td>\n",
       "      <td>5 ML</td>\n",
       "      <td>NaN</td>\n",
       "      <td>0</td>\n",
       "      <td>0</td>\n",
       "      <td>0</td>\n",
       "      <td>10[7]|</td>\n",
       "      <td>0</td>\n",
       "      <td>10</td>\n",
       "    </tr>\n",
       "  </tbody>\n",
       "</table>\n",
       "</div>"
      ],
      "text/plain": [
       "                 date                                    country  latitude  \\\n",
       "439  1966-04-25 23:22  Uzbekistan (see 1966 Tashkent earthquake)       NaN   \n",
       "\n",
       "     longitude  depth magnitude secondary_effects  pde_shaking_deaths  \\\n",
       "439        NaN    NaN      5 ML               NaN                   0   \n",
       "\n",
       "     pde_total_deaths  utsu_total_deaths em_dat_total_deaths  \\\n",
       "439                 0                  0              10[7]|   \n",
       "\n",
       "    others_source_deaths test_col  \n",
       "439                    0       10  "
      ]
     },
     "execution_count": 92,
     "metadata": {},
     "output_type": "execute_result"
    }
   ],
   "source": [
    "# Using a lambda function\n",
    "world_earthquakes['test_col'] = world_earthquakes['em_dat_total_deaths'].apply(lambda x: (re.split(r\"\\[\\d+]\\|\", str(x)))[0])\n",
    "world_earthquakes[world_earthquakes['em_dat_total_deaths'] == '10[7]|']"
   ]
  },
  {
   "cell_type": "code",
   "execution_count": 93,
   "metadata": {},
   "outputs": [],
   "source": [
    "# Lambda is just a shortcut for def\n",
    "# If using a separate def function... same concept applies\n",
    "def split_formatting(sstr):\n",
    "    # Apply the split on the string. The result will be a string\n",
    "    slist = re.split(r\"\\[\\d+]\\|\", str(x)) # [10,]\n",
    "    # The element we want to grab is the first element of that list\n",
    "    return slist[0]\n",
    "\n",
    "# Now, we can simply replace the lambda function in apply() with this function"
   ]
  },
  {
   "cell_type": "markdown",
   "metadata": {},
   "source": [
    "**The idea is that `apply()` will apply this transforming function for every single element in the column and replace each element in the target column with the result**"
   ]
  },
  {
   "cell_type": "markdown",
   "metadata": {},
   "source": [
    "**Another way you can handle this is simpy using `str.split(\"[\")` and again select only the first element:**"
   ]
  },
  {
   "cell_type": "code",
   "execution_count": 95,
   "metadata": {},
   "outputs": [],
   "source": [
    "def a_different_split(sstr):\n",
    "    slist = sstr.split(\"[\") # for 10[7]|, this would result in [\"10\", \"7]|\"]\n",
    "    # Again, we only want to return the first element\n",
    "    return slist[0]"
   ]
  },
  {
   "cell_type": "markdown",
   "metadata": {},
   "source": [
    "Let's test this function"
   ]
  },
  {
   "cell_type": "code",
   "execution_count": 96,
   "metadata": {},
   "outputs": [
    {
     "data": {
      "text/plain": [
       "'10'"
      ]
     },
     "execution_count": 96,
     "metadata": {},
     "output_type": "execute_result"
    }
   ],
   "source": [
    "a_different_split(\"10[7]|\")"
   ]
  },
  {
   "cell_type": "markdown",
   "metadata": {},
   "source": [
    "Again, using `.apply()`, you can apply this to the whole column"
   ]
  },
  {
   "cell_type": "markdown",
   "metadata": {},
   "source": [
    "---"
   ]
  },
  {
   "cell_type": "code",
   "execution_count": 94,
   "metadata": {
    "scrolled": true
   },
   "outputs": [
    {
     "data": {
      "text/html": [
       "<div>\n",
       "<style scoped>\n",
       "    .dataframe tbody tr th:only-of-type {\n",
       "        vertical-align: middle;\n",
       "    }\n",
       "\n",
       "    .dataframe tbody tr th {\n",
       "        vertical-align: top;\n",
       "    }\n",
       "\n",
       "    .dataframe thead th {\n",
       "        text-align: right;\n",
       "    }\n",
       "</style>\n",
       "<table border=\"1\" class=\"dataframe\">\n",
       "  <thead>\n",
       "    <tr style=\"text-align: right;\">\n",
       "      <th></th>\n",
       "      <th>date</th>\n",
       "      <th>country</th>\n",
       "      <th>latitude</th>\n",
       "      <th>longitude</th>\n",
       "      <th>depth</th>\n",
       "      <th>magnitude</th>\n",
       "      <th>secondary_effects</th>\n",
       "      <th>pde_shaking_deaths</th>\n",
       "      <th>pde_total_deaths</th>\n",
       "      <th>utsu_total_deaths</th>\n",
       "      <th>em_dat_total_deaths</th>\n",
       "      <th>others_source_deaths</th>\n",
       "      <th>test_col</th>\n",
       "    </tr>\n",
       "  </thead>\n",
       "  <tbody>\n",
       "    <tr>\n",
       "      <th>439</th>\n",
       "      <td>1966-04-25 23:22</td>\n",
       "      <td>Uzbekistan (see 1966 Tashkent earthquake)</td>\n",
       "      <td>NaN</td>\n",
       "      <td>NaN</td>\n",
       "      <td>NaN</td>\n",
       "      <td>5 ML</td>\n",
       "      <td>NaN</td>\n",
       "      <td>0</td>\n",
       "      <td>0</td>\n",
       "      <td>0</td>\n",
       "      <td>10[7]|</td>\n",
       "      <td>0</td>\n",
       "      <td>10</td>\n",
       "    </tr>\n",
       "  </tbody>\n",
       "</table>\n",
       "</div>"
      ],
      "text/plain": [
       "                 date                                    country  latitude  \\\n",
       "439  1966-04-25 23:22  Uzbekistan (see 1966 Tashkent earthquake)       NaN   \n",
       "\n",
       "     longitude  depth magnitude secondary_effects  pde_shaking_deaths  \\\n",
       "439        NaN    NaN      5 ML               NaN                   0   \n",
       "\n",
       "     pde_total_deaths  utsu_total_deaths em_dat_total_deaths  \\\n",
       "439                 0                  0              10[7]|   \n",
       "\n",
       "    others_source_deaths test_col  \n",
       "439                    0       10  "
      ]
     },
     "execution_count": 94,
     "metadata": {},
     "output_type": "execute_result"
    }
   ],
   "source": [
    "world_earthquakes[world_earthquakes['em_dat_total_deaths'] == '10[7]|']"
   ]
  },
  {
   "cell_type": "markdown",
   "metadata": {},
   "source": [
    "I made a new column to be able to see what I did however looks like I'm getting now '[10,]' and I want only '10'"
   ]
  },
  {
   "cell_type": "markdown",
   "metadata": {},
   "source": [
    "**Feedback: Again, you just need to select to first element from that returned list. In this case, `'10'` is that first element**"
   ]
  },
  {
   "cell_type": "markdown",
   "metadata": {},
   "source": [
    "New try:"
   ]
  },
  {
   "cell_type": "code",
   "execution_count": 29,
   "metadata": {},
   "outputs": [],
   "source": [
    "#world_earthquakes.loc[world_earthquakes['em_dat_total_deaths'] == \"10[7]|\"] = 10"
   ]
  },
  {
   "cell_type": "code",
   "execution_count": 30,
   "metadata": {},
   "outputs": [],
   "source": [
    "#world_earthquakes[world_earthquakes['country'] == 'Uzbekistan (see 1966 Tashkent earthquake)']"
   ]
  },
  {
   "cell_type": "markdown",
   "metadata": {},
   "source": [
    "This function instead of just changing \"10[7]|\" to \"10\", just got completely rid of the row!!!!!! "
   ]
  },
  {
   "cell_type": "markdown",
   "metadata": {},
   "source": [
    "### NB: What worked but it's not applicable for huge database..."
   ]
  },
  {
   "cell_type": "markdown",
   "metadata": {},
   "source": [
    "New try:"
   ]
  },
  {
   "cell_type": "code",
   "execution_count": 31,
   "metadata": {},
   "outputs": [],
   "source": [
    "world_earthquakes[\"em_dat_total_deaths\"] = world_earthquakes[\"em_dat_total_deaths\"].replace(\"10[7]|\", 10)"
   ]
  },
  {
   "cell_type": "code",
   "execution_count": 32,
   "metadata": {
    "scrolled": true
   },
   "outputs": [
    {
     "data": {
      "text/html": [
       "<div>\n",
       "<style scoped>\n",
       "    .dataframe tbody tr th:only-of-type {\n",
       "        vertical-align: middle;\n",
       "    }\n",
       "\n",
       "    .dataframe tbody tr th {\n",
       "        vertical-align: top;\n",
       "    }\n",
       "\n",
       "    .dataframe thead th {\n",
       "        text-align: right;\n",
       "    }\n",
       "</style>\n",
       "<table border=\"1\" class=\"dataframe\">\n",
       "  <thead>\n",
       "    <tr style=\"text-align: right;\">\n",
       "      <th></th>\n",
       "      <th>date</th>\n",
       "      <th>country</th>\n",
       "      <th>latitude</th>\n",
       "      <th>longitude</th>\n",
       "      <th>depth</th>\n",
       "      <th>magnitude</th>\n",
       "      <th>secondary_effects</th>\n",
       "      <th>pde_shaking_deaths</th>\n",
       "      <th>pde_total_deaths</th>\n",
       "      <th>utsu_total_deaths</th>\n",
       "      <th>em_dat_total_deaths</th>\n",
       "      <th>others_source_deaths</th>\n",
       "    </tr>\n",
       "  </thead>\n",
       "  <tbody>\n",
       "    <tr>\n",
       "      <th>439</th>\n",
       "      <td>1966-04-25 23:22</td>\n",
       "      <td>Uzbekistan (see 1966 Tashkent earthquake)</td>\n",
       "      <td>NaN</td>\n",
       "      <td>NaN</td>\n",
       "      <td>NaN</td>\n",
       "      <td>5 ML</td>\n",
       "      <td>NaN</td>\n",
       "      <td>0</td>\n",
       "      <td>0</td>\n",
       "      <td>0</td>\n",
       "      <td>10</td>\n",
       "      <td>0</td>\n",
       "    </tr>\n",
       "  </tbody>\n",
       "</table>\n",
       "</div>"
      ],
      "text/plain": [
       "                 date                                    country  latitude  \\\n",
       "439  1966-04-25 23:22  Uzbekistan (see 1966 Tashkent earthquake)       NaN   \n",
       "\n",
       "     longitude  depth magnitude secondary_effects  pde_shaking_deaths  \\\n",
       "439        NaN    NaN      5 ML               NaN                   0   \n",
       "\n",
       "     pde_total_deaths  utsu_total_deaths em_dat_total_deaths  \\\n",
       "439                 0                  0                  10   \n",
       "\n",
       "    others_source_deaths  \n",
       "439                    0  "
      ]
     },
     "execution_count": 32,
     "metadata": {},
     "output_type": "execute_result"
    }
   ],
   "source": [
    "world_earthquakes[world_earthquakes['country'] == 'Uzbekistan (see 1966 Tashkent earthquake)']"
   ]
  },
  {
   "cell_type": "markdown",
   "metadata": {},
   "source": [
    "Not the best solution but it worked!!!! I'm open to suggestions!"
   ]
  },
  {
   "cell_type": "code",
   "execution_count": 33,
   "metadata": {},
   "outputs": [
    {
     "data": {
      "text/plain": [
       "array([0, '2000', '20000', '2500', '400', '12000', '75000', '923', '20',\n",
       "       '29980', '1800', '10000', '100', '116', '180000', '1000', '5000',\n",
       "       '143000', '2925', '200000', '107', '3300', '500', '0', '36', '256',\n",
       "       '6', '3008', '6000', '3410', '60000', '9', '149', '30000', '32962',\n",
       "       '249', '980', '200', '3000', '213', '1083', '2824', '3959', '998',\n",
       "       '1961', '4000', '165', '73', '1400', '233', '27', '5131', '110000',\n",
       "       '8', '437', '1500', '30', '14', '1200', '455', '7', '13', '1250',\n",
       "       '39', '53', '160', '28', '191', '57', '131', '4', '25', '23', '38',\n",
       "       '128', 10, '80', '2394', '120', '61', '54', '183', '240', '177',\n",
       "       '19', '47', '11', '271', '29', '15', '41', '24', '150', '1086',\n",
       "       '66794', '176', '65', '878', '85', '5057', '17', '78', '2385', '1',\n",
       "       '23000', '50', '2', '10', '922', '420', '573', '242000', '16',\n",
       "       '3840', '1641', '167', '352', '3', '185', '589', '21', '25000',\n",
       "       '45', '5', '121', '34', '26', '350', '60', '300', '32', '69',\n",
       "       '2633', '4689', '22', '250', '1507', '12', '102', '1346', '275',\n",
       "       '180', '67', '9500', '1100', '125', '709', '274', '62', '126',\n",
       "       '40000', '2412', '270', '653', '179', '552', '239', '9748', '207',\n",
       "       '171', '81', '5297', '40', '1989', '94', '84', '46', '309', '166',\n",
       "       '18', '1568', '43', '49', '2323', '95', '4700', '1186', '70',\n",
       "       '17127', '143', '2264', '31', '845', '103', '844', '20005', '315',\n",
       "       '145', '42', '227', '268', '2266', '26796', '37', '628', '35',\n",
       "       '33', '612', '915', '73338', '63', '519', '87476'], dtype=object)"
      ]
     },
     "execution_count": 33,
     "metadata": {},
     "output_type": "execute_result"
    }
   ],
   "source": [
    "world_earthquakes['em_dat_total_deaths'].unique()"
   ]
  },
  {
   "cell_type": "markdown",
   "metadata": {},
   "source": [
    "## 5/ Remove footnotes from the column \"others_source_deaths\":"
   ]
  },
  {
   "cell_type": "code",
   "execution_count": 34,
   "metadata": {},
   "outputs": [
    {
     "data": {
      "text/plain": [
       "array([0, '3500', '8000+', '46', '164[6]', '1500[6]', '105000', '1404',\n",
       "       '1', '120', '200', '380', '2041', '33[8]', '45000[9]', '2489[10]',\n",
       "       '26271[11] 26000[12]', '68', '231000*[13] 283000*[14] 227898*[15]',\n",
       "       '41', '60[16]', '215', '34', '295', '79', '189', '1115',\n",
       "       '222,517[17]', '521[19]', '42', '2698', '185', '15894[20]', '150+',\n",
       "       '111+', '601 (as of October 30, 2011)'], dtype=object)"
      ]
     },
     "execution_count": 34,
     "metadata": {},
     "output_type": "execute_result"
    }
   ],
   "source": [
    "world_earthquakes['others_source_deaths'].unique()"
   ]
  },
  {
   "cell_type": "markdown",
   "metadata": {},
   "source": [
    "**Feedback: Same concept as above. You can still use `split()` here again. In this case, the regex option might work better because the split can only be used for one case at a time. With regex, you can setup multiple `or` conditions for the split for the cases for `*`, `[` and `\\s(`.**\n",
    "\n",
    "**Or, you can always use multiple `apply()` with `split()`. The first `apply()` could take care of `*` then the second `apply` for ` (` and so on...**"
   ]
  },
  {
   "cell_type": "markdown",
   "metadata": {},
   "source": [
    "### Again what didn't work:"
   ]
  },
  {
   "cell_type": "code",
   "execution_count": 35,
   "metadata": {},
   "outputs": [],
   "source": [
    "test2 = '456 (as of Oct 30, 2011)'"
   ]
  },
  {
   "cell_type": "code",
   "execution_count": 36,
   "metadata": {
    "scrolled": true
   },
   "outputs": [
    {
     "name": "stdout",
     "output_type": "stream",
     "text": [
      "['456 ', '']\n"
     ]
    }
   ],
   "source": [
    "print(re.split(r\"\\(as of Oct 30, 2011\\)\", test2))"
   ]
  },
  {
   "cell_type": "code",
   "execution_count": 37,
   "metadata": {},
   "outputs": [],
   "source": [
    "#world_earthquakes['other_col'] = world_earthquakes['others_source_deaths'].str.split(r\"\\(as of Oct 30, 2011\\)\")"
   ]
  },
  {
   "cell_type": "code",
   "execution_count": 38,
   "metadata": {},
   "outputs": [],
   "source": [
    "#world_earthquakes.tail()"
   ]
  },
  {
   "cell_type": "markdown",
   "metadata": {},
   "source": [
    "This function is working but it is adding square brackets on the numbers so not what I want:\n",
    "aka: '10[7]' --> '[10, ]' but I want '10'"
   ]
  },
  {
   "cell_type": "markdown",
   "metadata": {},
   "source": [
    "### To remove * and + in the column \"other_source_deaths\":"
   ]
  },
  {
   "cell_type": "code",
   "execution_count": 39,
   "metadata": {},
   "outputs": [],
   "source": [
    "test4 = '8000+, 231000*[13]'"
   ]
  },
  {
   "cell_type": "code",
   "execution_count": 40,
   "metadata": {},
   "outputs": [
    {
     "name": "stdout",
     "output_type": "stream",
     "text": [
      "['8000', ', 231000', '[13]']\n"
     ]
    }
   ],
   "source": [
    "print(re.split(r\"[+*]\", test4))"
   ]
  },
  {
   "cell_type": "code",
   "execution_count": 41,
   "metadata": {},
   "outputs": [],
   "source": [
    "#world_earthquakes['other_col'] = world_earthquakes['others_source_deaths'].str.split(r\"[+*]\")"
   ]
  },
  {
   "cell_type": "code",
   "execution_count": 42,
   "metadata": {},
   "outputs": [],
   "source": [
    "#world_earthquakes.tail()"
   ]
  },
  {
   "cell_type": "markdown",
   "metadata": {},
   "source": [
    "It did get rid of + and * but did put into brackets like: 150+ --> [150,]"
   ]
  },
  {
   "cell_type": "code",
   "execution_count": 43,
   "metadata": {},
   "outputs": [],
   "source": [
    "# to get the biggest number np.max()"
   ]
  },
  {
   "cell_type": "markdown",
   "metadata": {},
   "source": [
    "### Again: not the best option but It does clean the column: (I highly open to suggestion!!! but at least we can work with this column now!)"
   ]
  },
  {
   "cell_type": "code",
   "execution_count": 44,
   "metadata": {},
   "outputs": [
    {
     "data": {
      "text/plain": [
       "array([0, '3500', '8000+', '46', '164[6]', '1500[6]', '105000', '1404',\n",
       "       '1', '120', '200', '380', '2041', '33[8]', '45000[9]', '2489[10]',\n",
       "       '26271[11] 26000[12]', '68', '231000*[13] 283000*[14] 227898*[15]',\n",
       "       '41', '60[16]', '215', '34', '295', '79', '189', '1115',\n",
       "       '222,517[17]', '521[19]', '42', '2698', '185', '15894[20]', '150+',\n",
       "       '111+', '601 (as of October 30, 2011)'], dtype=object)"
      ]
     },
     "execution_count": 44,
     "metadata": {},
     "output_type": "execute_result"
    }
   ],
   "source": [
    "world_earthquakes['others_source_deaths'].unique()"
   ]
  },
  {
   "cell_type": "code",
   "execution_count": 45,
   "metadata": {},
   "outputs": [],
   "source": [
    "world_earthquakes[\"others_source_deaths\"] = world_earthquakes[\"others_source_deaths\"].replace(\"8000+\", 8000).replace(\"164[6]\", 164).replace(\"1500[6]\", 1500).replace(\"33[8]\", 33).replace(\"45000[9]\", 45000).replace(\"2489[10]\", 2489).replace(\"26271[11] 26000[12]\", 26271).replace(\"231000*[13] 283000*[14] 227898*[15]\", 283000).replace(\"60[16]\", 60).replace(\"222,517[17]\", 517).replace(\"521[19]\", 521).replace(\"15894[20]\", 15894).replace(\"150+\", 150).replace(\"111+\", 111).replace(\"601 (as of October 30, 2011)\", 601) "
   ]
  },
  {
   "cell_type": "code",
   "execution_count": 46,
   "metadata": {},
   "outputs": [
    {
     "data": {
      "text/plain": [
       "array([0, '3500', 8000, '46', 164, 1500, '105000', '1404', '1', '120',\n",
       "       '200', '380', '2041', 33, 45000, 2489, 26271, '68', 283000, '41',\n",
       "       60, '215', '34', '295', '79', '189', '1115', 517, 521, '42',\n",
       "       '2698', '185', 15894, 150, 111, 601], dtype=object)"
      ]
     },
     "execution_count": 46,
     "metadata": {},
     "output_type": "execute_result"
    }
   ],
   "source": [
    "world_earthquakes['others_source_deaths'].unique()"
   ]
  },
  {
   "cell_type": "markdown",
   "metadata": {},
   "source": [
    "## 6/ New df partially cleaned:"
   ]
  },
  {
   "cell_type": "code",
   "execution_count": 47,
   "metadata": {
    "scrolled": true
   },
   "outputs": [
    {
     "data": {
      "text/html": [
       "<div>\n",
       "<style scoped>\n",
       "    .dataframe tbody tr th:only-of-type {\n",
       "        vertical-align: middle;\n",
       "    }\n",
       "\n",
       "    .dataframe tbody tr th {\n",
       "        vertical-align: top;\n",
       "    }\n",
       "\n",
       "    .dataframe thead th {\n",
       "        text-align: right;\n",
       "    }\n",
       "</style>\n",
       "<table border=\"1\" class=\"dataframe\">\n",
       "  <thead>\n",
       "    <tr style=\"text-align: right;\">\n",
       "      <th></th>\n",
       "      <th>date</th>\n",
       "      <th>country</th>\n",
       "      <th>latitude</th>\n",
       "      <th>longitude</th>\n",
       "      <th>depth</th>\n",
       "      <th>magnitude</th>\n",
       "      <th>secondary_effects</th>\n",
       "      <th>pde_shaking_deaths</th>\n",
       "      <th>pde_total_deaths</th>\n",
       "      <th>utsu_total_deaths</th>\n",
       "      <th>em_dat_total_deaths</th>\n",
       "      <th>others_source_deaths</th>\n",
       "    </tr>\n",
       "  </thead>\n",
       "  <tbody>\n",
       "    <tr>\n",
       "      <th>0</th>\n",
       "      <td>1900-05-11 17:23</td>\n",
       "      <td>Japan</td>\n",
       "      <td>38.7</td>\n",
       "      <td>141.1</td>\n",
       "      <td>5.0</td>\n",
       "      <td>7.0 MJMA</td>\n",
       "      <td>NaN</td>\n",
       "      <td>0</td>\n",
       "      <td>0</td>\n",
       "      <td>0</td>\n",
       "      <td>0</td>\n",
       "      <td>0</td>\n",
       "    </tr>\n",
       "    <tr>\n",
       "      <th>1</th>\n",
       "      <td>1900-07-12 06:25</td>\n",
       "      <td>Turkey</td>\n",
       "      <td>40.3</td>\n",
       "      <td>43.1</td>\n",
       "      <td>NaN</td>\n",
       "      <td>5.9 Muk</td>\n",
       "      <td>NaN</td>\n",
       "      <td>0</td>\n",
       "      <td>0</td>\n",
       "      <td>140</td>\n",
       "      <td>0</td>\n",
       "      <td>0</td>\n",
       "    </tr>\n",
       "    <tr>\n",
       "      <th>2</th>\n",
       "      <td>1900-10-29 09:11</td>\n",
       "      <td>Venezuela</td>\n",
       "      <td>11.0</td>\n",
       "      <td>-66.0</td>\n",
       "      <td>0.0</td>\n",
       "      <td>7.7 Mw</td>\n",
       "      <td>NaN</td>\n",
       "      <td>0</td>\n",
       "      <td>0</td>\n",
       "      <td>0</td>\n",
       "      <td>0</td>\n",
       "      <td>0</td>\n",
       "    </tr>\n",
       "    <tr>\n",
       "      <th>3</th>\n",
       "      <td>1901-02-15 00:00</td>\n",
       "      <td>China</td>\n",
       "      <td>26.0</td>\n",
       "      <td>100.1</td>\n",
       "      <td>0.0</td>\n",
       "      <td>6.5 Ms</td>\n",
       "      <td>NaN</td>\n",
       "      <td>0</td>\n",
       "      <td>0</td>\n",
       "      <td>0</td>\n",
       "      <td>0</td>\n",
       "      <td>0</td>\n",
       "    </tr>\n",
       "    <tr>\n",
       "      <th>4</th>\n",
       "      <td>1901-03-31 07:11</td>\n",
       "      <td>Bulgaria</td>\n",
       "      <td>43.4</td>\n",
       "      <td>28.7</td>\n",
       "      <td>NaN</td>\n",
       "      <td>6.4 Muk</td>\n",
       "      <td>NaN</td>\n",
       "      <td>0</td>\n",
       "      <td>0</td>\n",
       "      <td>4</td>\n",
       "      <td>0</td>\n",
       "      <td>0</td>\n",
       "    </tr>\n",
       "  </tbody>\n",
       "</table>\n",
       "</div>"
      ],
      "text/plain": [
       "               date    country  latitude  longitude  depth magnitude  \\\n",
       "0  1900-05-11 17:23      Japan      38.7      141.1    5.0  7.0 MJMA   \n",
       "1  1900-07-12 06:25     Turkey      40.3       43.1    NaN   5.9 Muk   \n",
       "2  1900-10-29 09:11  Venezuela      11.0      -66.0    0.0    7.7 Mw   \n",
       "3  1901-02-15 00:00      China      26.0      100.1    0.0    6.5 Ms   \n",
       "4  1901-03-31 07:11   Bulgaria      43.4       28.7    NaN   6.4 Muk   \n",
       "\n",
       "  secondary_effects  pde_shaking_deaths  pde_total_deaths  utsu_total_deaths  \\\n",
       "0               NaN                   0                 0                  0   \n",
       "1               NaN                   0                 0                140   \n",
       "2               NaN                   0                 0                  0   \n",
       "3               NaN                   0                 0                  0   \n",
       "4               NaN                   0                 0                  4   \n",
       "\n",
       "  em_dat_total_deaths others_source_deaths  \n",
       "0                   0                    0  \n",
       "1                   0                    0  \n",
       "2                   0                    0  \n",
       "3                   0                    0  \n",
       "4                   0                    0  "
      ]
     },
     "execution_count": 47,
     "metadata": {},
     "output_type": "execute_result"
    }
   ],
   "source": [
    "world_earthquakes.head()"
   ]
  },
  {
   "cell_type": "markdown",
   "metadata": {},
   "source": [
    "## 7/ There is still \"country\", \"magnitude\", \"secondary_effects\" to clean! And maybe date as well?"
   ]
  },
  {
   "cell_type": "code",
   "execution_count": null,
   "metadata": {
    "scrolled": true
   },
   "outputs": [],
   "source": []
  },
  {
   "cell_type": "code",
   "execution_count": null,
   "metadata": {},
   "outputs": [],
   "source": []
  },
  {
   "cell_type": "code",
   "execution_count": null,
   "metadata": {},
   "outputs": [],
   "source": []
  }
 ],
 "metadata": {
  "kernelspec": {
   "display_name": "Python 3",
   "language": "python",
   "name": "python3"
  },
  "language_info": {
   "codemirror_mode": {
    "name": "ipython",
    "version": 3
   },
   "file_extension": ".py",
   "mimetype": "text/x-python",
   "name": "python",
   "nbconvert_exporter": "python",
   "pygments_lexer": "ipython3",
   "version": "3.8.5"
  },
  "toc": {
   "base_numbering": 1,
   "nav_menu": {},
   "number_sections": false,
   "sideBar": true,
   "skip_h1_title": false,
   "title_cell": "Table of Contents",
   "title_sidebar": "Contents",
   "toc_cell": false,
   "toc_position": {},
   "toc_section_display": true,
   "toc_window_display": true
  }
 },
 "nbformat": 4,
 "nbformat_minor": 2
}
